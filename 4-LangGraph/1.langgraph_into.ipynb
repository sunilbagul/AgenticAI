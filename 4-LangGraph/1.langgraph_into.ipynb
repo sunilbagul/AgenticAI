{
 "cells": [
  {
   "cell_type": "code",
   "execution_count": 3,
   "id": "5045bb65",
   "metadata": {},
   "outputs": [],
   "source": [
    "def function1(input1):\n",
    "    return input1 + \" from first function\""
   ]
  },
  {
   "cell_type": "code",
   "execution_count": 8,
   "id": "1e578b87",
   "metadata": {},
   "outputs": [],
   "source": [
    "def function2(input2):\n",
    "    return input2 + \" Bagul from second function\""
   ]
  },
  {
   "cell_type": "code",
   "execution_count": 5,
   "id": "a88db835",
   "metadata": {},
   "outputs": [],
   "source": [
    "def function3(input3):\n",
    "    pass"
   ]
  },
  {
   "cell_type": "code",
   "execution_count": 6,
   "id": "b52ab9f4",
   "metadata": {},
   "outputs": [
    {
     "data": {
      "text/plain": [
       "'Sunil from first function'"
      ]
     },
     "execution_count": 6,
     "metadata": {},
     "output_type": "execute_result"
    }
   ],
   "source": [
    "function1(\"Sunil\")"
   ]
  },
  {
   "cell_type": "code",
   "execution_count": 9,
   "id": "1d403169",
   "metadata": {},
   "outputs": [
    {
     "data": {
      "text/plain": [
       "'Sunil Bagul from second function'"
      ]
     },
     "execution_count": 9,
     "metadata": {},
     "output_type": "execute_result"
    }
   ],
   "source": [
    "function2(\"Sunil\")"
   ]
  },
  {
   "cell_type": "code",
   "execution_count": 11,
   "id": "81970430",
   "metadata": {},
   "outputs": [],
   "source": [
    "from langgraph.graph import Graph"
   ]
  },
  {
   "cell_type": "code",
   "execution_count": 12,
   "id": "6f343d18",
   "metadata": {},
   "outputs": [],
   "source": [
    "workflow1 = Graph()"
   ]
  },
  {
   "cell_type": "code",
   "execution_count": 13,
   "id": "fc20e74d",
   "metadata": {},
   "outputs": [
    {
     "data": {
      "text/plain": [
       "<langgraph.graph.graph.Graph at 0x11fcd4584a0>"
      ]
     },
     "execution_count": 13,
     "metadata": {},
     "output_type": "execute_result"
    }
   ],
   "source": [
    "workflow1.add_node(\"fun1\",function1)"
   ]
  },
  {
   "cell_type": "code",
   "execution_count": 14,
   "id": "5ad950cb",
   "metadata": {},
   "outputs": [
    {
     "data": {
      "text/plain": [
       "<langgraph.graph.graph.Graph at 0x11fcd4584a0>"
      ]
     },
     "execution_count": 14,
     "metadata": {},
     "output_type": "execute_result"
    }
   ],
   "source": [
    "workflow1.add_node(\"fun2\",function2)"
   ]
  },
  {
   "cell_type": "code",
   "execution_count": 15,
   "id": "2ac9e66d",
   "metadata": {},
   "outputs": [
    {
     "data": {
      "text/plain": [
       "<langgraph.graph.graph.Graph at 0x11fcd4584a0>"
      ]
     },
     "execution_count": 15,
     "metadata": {},
     "output_type": "execute_result"
    }
   ],
   "source": [
    "workflow1.add_edge(\"fun1\",\"fun2\")"
   ]
  },
  {
   "cell_type": "code",
   "execution_count": 16,
   "id": "86da5249",
   "metadata": {},
   "outputs": [
    {
     "data": {
      "text/plain": [
       "<langgraph.graph.graph.Graph at 0x11fcd4584a0>"
      ]
     },
     "execution_count": 16,
     "metadata": {},
     "output_type": "execute_result"
    }
   ],
   "source": [
    "workflow1.set_entry_point(\"fun1\")"
   ]
  },
  {
   "cell_type": "code",
   "execution_count": 17,
   "id": "e1be4bcc",
   "metadata": {},
   "outputs": [
    {
     "data": {
      "text/plain": [
       "<langgraph.graph.graph.Graph at 0x11fcd4584a0>"
      ]
     },
     "execution_count": 17,
     "metadata": {},
     "output_type": "execute_result"
    }
   ],
   "source": [
    "workflow1.set_finish_point(\"fun2\")"
   ]
  },
  {
   "cell_type": "code",
   "execution_count": 18,
   "id": "f07eea7d",
   "metadata": {},
   "outputs": [],
   "source": [
    "app = workflow1.compile()"
   ]
  },
  {
   "cell_type": "code",
   "execution_count": 19,
   "id": "b8d5db96",
   "metadata": {},
   "outputs": [
    {
     "data": {
      "text/plain": [
       "Graph(nodes={'fun1': Node(id='fun1', name='fun1', data=fun1(tags=None, recurse=True, explode_args=False, func_accepts_config=False, func_accepts={}), metadata=None), 'fun2': Node(id='fun2', name='fun2', data=fun2(tags=None, recurse=True, explode_args=False, func_accepts_config=False, func_accepts={}), metadata=None), '__start__': Node(id='__start__', name='__start__', data=None, metadata=None), '__end__': Node(id='__end__', name='__end__', data=None, metadata=None)}, edges=[Edge(source='__start__', target='fun1', data=None, conditional=False), Edge(source='fun1', target='fun2', data=None, conditional=False), Edge(source='fun2', target='__end__', data=None, conditional=False)])"
      ]
     },
     "execution_count": 19,
     "metadata": {},
     "output_type": "execute_result"
    }
   ],
   "source": [
    "app.get_graph()"
   ]
  },
  {
   "cell_type": "code",
   "execution_count": 20,
   "id": "da42427f",
   "metadata": {},
   "outputs": [],
   "source": [
    "from IPython.display import Image,display"
   ]
  },
  {
   "cell_type": "code",
   "execution_count": 21,
   "id": "53739e92",
   "metadata": {},
   "outputs": [
    {
     "data": {
      "image/png": "[encoded data removed]",
      "text/plain": [
       "<IPython.core.display.Image object>"
      ]
     },
     "metadata": {},
     "output_type": "display_data"
    }
   ],
   "source": [
    "display(Image(app.get_graph().draw_mermaid_png()))"
   ]
  },
  {
   "cell_type": "code",
   "execution_count": 22,
   "id": "03bcdc3a",
   "metadata": {},
   "outputs": [
    {
     "data": {
      "text/plain": [
       "'HI this is Sunil from first function Bagul from second function'"
      ]
     },
     "execution_count": 22,
     "metadata": {},
     "output_type": "execute_result"
    }
   ],
   "source": [
    "app.invoke(\"HI this is Sunil\")"
   ]
  },
  {
   "cell_type": "code",
   "execution_count": 24,
   "id": "345bebea",
   "metadata": {},
   "outputs": [
    {
     "name": "stdout",
     "output_type": "stream",
     "text": [
      "here is output from fun1\n",
      "_______\n",
      "hi this is Sunil from first function\n",
      "\n",
      "\n",
      "here is output from fun2\n",
      "_______\n",
      "hi this is Sunil from first function Bagul from second function\n",
      "\n",
      "\n"
     ]
    }
   ],
   "source": [
    "# node wise output from above example\n",
    "for output in app.stream(\"hi this is Sunil\"):\n",
    "    for key,value in output.items():\n",
    "        print(f\"here is output from {key}\")\n",
    "        print(\"_______\")\n",
    "        print(value)\n",
    "        print(\"\\n\")"
   ]
  },
  {
   "cell_type": "code",
   "execution_count": 53,
   "id": "c63c9907",
   "metadata": {},
   "outputs": [],
   "source": [
    "from langchain_openai import ChatOpenAI\n",
    "\n",
    "model = ChatOpenAI(model=\"o1-mini\")"
   ]
  },
  {
   "cell_type": "code",
   "execution_count": 48,
   "id": "fd2d6bfe",
   "metadata": {},
   "outputs": [
    {
     "data": {
      "text/plain": [
       "'Hello! How can I help you today?'"
      ]
     },
     "execution_count": 48,
     "metadata": {},
     "output_type": "execute_result"
    }
   ],
   "source": [
    "model.invoke(\"hi\").content"
   ]
  },
  {
   "cell_type": "code",
   "execution_count": 58,
   "id": "4510c72c",
   "metadata": {},
   "outputs": [],
   "source": [
    "def llm(input):\n",
    "    from langchain_openai import ChatOpenAI\n",
    "    model = ChatOpenAI(model=\"o1-mini\")\n",
    "    output = model.invoke(input)\n",
    "    return output.content"
   ]
  },
  {
   "cell_type": "code",
   "execution_count": 59,
   "id": "acc58341",
   "metadata": {},
   "outputs": [],
   "source": [
    "def token_counter(input):\n",
    "    token = input.split()\n",
    "    token_number = len(token)\n",
    "    return f\"total token number in generated answer is {token_number}\""
   ]
  },
  {
   "cell_type": "code",
   "execution_count": 60,
   "id": "c2ed51f8",
   "metadata": {},
   "outputs": [],
   "source": [
    "workflow2 = Graph()"
   ]
  },
  {
   "cell_type": "code",
   "execution_count": 61,
   "id": "ce5e6586",
   "metadata": {},
   "outputs": [
    {
     "data": {
      "text/plain": [
       "<langgraph.graph.graph.Graph at 0x11fcf39e480>"
      ]
     },
     "execution_count": 61,
     "metadata": {},
     "output_type": "execute_result"
    }
   ],
   "source": [
    "workflow2.add_node(\"My_LLM\",llm)"
   ]
  },
  {
   "cell_type": "code",
   "execution_count": 62,
   "id": "fc7447fb",
   "metadata": {},
   "outputs": [
    {
     "data": {
      "text/plain": [
       "<langgraph.graph.graph.Graph at 0x11fcf39e480>"
      ]
     },
     "execution_count": 62,
     "metadata": {},
     "output_type": "execute_result"
    }
   ],
   "source": [
    "workflow2.add_node(\"LLM_Output_Token_Counter\",token_counter)"
   ]
  },
  {
   "cell_type": "code",
   "execution_count": 63,
   "id": "3e024d1f",
   "metadata": {},
   "outputs": [
    {
     "data": {
      "text/plain": [
       "<langgraph.graph.graph.Graph at 0x11fcf39e480>"
      ]
     },
     "execution_count": 63,
     "metadata": {},
     "output_type": "execute_result"
    }
   ],
   "source": [
    "workflow2.add_edge(\"My_LLM\",\"LLM_Output_Token_Counter\")"
   ]
  },
  {
   "cell_type": "code",
   "execution_count": 64,
   "id": "278db6d0",
   "metadata": {},
   "outputs": [
    {
     "data": {
      "text/plain": [
       "<langgraph.graph.graph.Graph at 0x11fcf39e480>"
      ]
     },
     "execution_count": 64,
     "metadata": {},
     "output_type": "execute_result"
    }
   ],
   "source": [
    "workflow2.set_entry_point(\"My_LLM\")"
   ]
  },
  {
   "cell_type": "code",
   "execution_count": 65,
   "id": "03b52cae",
   "metadata": {},
   "outputs": [
    {
     "data": {
      "text/plain": [
       "<langgraph.graph.graph.Graph at 0x11fcf39e480>"
      ]
     },
     "execution_count": 65,
     "metadata": {},
     "output_type": "execute_result"
    }
   ],
   "source": [
    "workflow2.set_finish_point(\"LLM_Output_Token_Counter\")"
   ]
  },
  {
   "cell_type": "code",
   "execution_count": 66,
   "id": "a1754531",
   "metadata": {},
   "outputs": [],
   "source": [
    "app = workflow2.compile()"
   ]
  },
  {
   "cell_type": "code",
   "execution_count": 67,
   "id": "c4b1535f",
   "metadata": {},
   "outputs": [
    {
     "data": {
      "image/png": "[encoded data removed]",
      "text/plain": [
       "<IPython.core.display.Image object>"
      ]
     },
     "metadata": {},
     "output_type": "display_data"
    }
   ],
   "source": [
    "display(Image(app.get_graph().draw_mermaid_png()))"
   ]
  },
  {
   "cell_type": "code",
   "execution_count": 68,
   "id": "6c39ac89",
   "metadata": {},
   "outputs": [
    {
     "data": {
      "text/plain": [
       "'total token number in generated answer is 673'"
      ]
     },
     "execution_count": 68,
     "metadata": {},
     "output_type": "execute_result"
    }
   ],
   "source": [
    "app.invoke(\"can you tell about capital of india?\")"
   ]
  },
  {
   "cell_type": "code",
   "execution_count": 69,
   "id": "f84742af",
   "metadata": {},
   "outputs": [
    {
     "name": "stdout",
     "output_type": "stream",
     "text": [
      "here is output from My_LLM\n",
      "_______\n",
      "The **Tata Enterprise**, more accurately referred to as the **Tata Group**, is one of India's largest and most prestigious multinational conglomerates. With a rich history spanning over 150 years, the Tata Group has grown from a single trading company into a global powerhouse encompassing diverse industries. Below is an in-depth exploration of the Tata Group, covering its history, key businesses, subsidiaries, leadership, corporate governance, social initiatives, and global impact.\n",
      "\n",
      "## **1. Overview of Tata Group**\n",
      "\n",
      "- **Founded:** 1868\n",
      "- **Founder:** Jamsetji Tata\n",
      "- **Headquarters:** Mumbai, Maharashtra, India\n",
      "- **Employees:** Over 750,000 globally (as of 2023)\n",
      "- **Revenue:** Approximately USD 140 billion (aggregated across all subsidiaries)\n",
      "- **Presence:** Operates in over 100 countries across six continents\n",
      "\n",
      "The Tata Group is renowned for its ethical business practices, commitment to sustainability, and significant contributions to India's economic development. The group operates through a network of subsidiaries and affiliated companies, each specializing in different sectors.\n",
      "\n",
      "## **2. Historical Background**\n",
      "\n",
      "### **Early Years: Jamsetji Tata**\n",
      "\n",
      "- **Jamsetji Tata (1839-1904):** Often hailed as the \"Father of Indian Industry,\" Jamsetji Tata laid the foundation for the Tata Group. His vision was to create an integrated industrial environment in India, focusing on steel, power, and hydroelectricity.\n",
      "\n",
      "- **Key Milestones:**\n",
      "  - **1868:** Founded Tata & Sons in Mumbai as a trading company.\n",
      "  - **1907:** Established the Indian Institute of Science (IISc) in Bangalore, emphasizing research and innovation.\n",
      "  - **1911:** Initiated the construction of Tata Steel in Jamshedpur, which became Asia’s first integrated steel plant.\n",
      "\n",
      "### **Expansion and Diversification**\n",
      "\n",
      "Post-Jamsetji, his sons and grandsons continued to expand the conglomerate:\n",
      "\n",
      "- **J.R.D. Tata (1904-1993):** Led the group through significant diversification, including the establishment of Tata Airlines (now Air India) and Tata Motors.\n",
      "\n",
      "- **Ratan Tata (Born 1937):** Under his leadership, the group saw global expansion, acquisitions like Corus (now Tata Steel Europe) and Jaguar Land Rover, and the launch of iconic products like the Tata Nano.\n",
      "\n",
      "## **3. Key Business Segments and Subsidiaries**\n",
      "\n",
      "The Tata Group's operations are divided into several key sectors, each managed by specialized subsidiaries:\n",
      "\n",
      "### **a. Information Technology (IT) and Services**\n",
      "\n",
      "- **Tata Consultancy Services (TCS):**\n",
      "  - **Founded:** 1968\n",
      "  - **Revenue:** Over USD 25 billion (2023)\n",
      "  - **Overview:** One of the world's largest IT services and consulting firms, TCS offers services in IT consulting, software development, business process outsourcing (BPO), and more. It serves clients across various industries, including banking, healthcare, and retail.\n",
      "\n",
      "- **Tata Technologies:**\n",
      "  - **Focus:** Engineering services and product development IT services for automotive, aerospace, and industrial machinery sectors.\n",
      "\n",
      "### **b. Automotive**\n",
      "\n",
      "- **Tata Motors:**\n",
      "  - **Founded:** 1945\n",
      "  - **Revenue:** Approximately USD 42 billion (2023)\n",
      "  - **Overview:** A leading global automotive manufacturer, Tata Motors produces a wide range of vehicles, including passenger cars, trucks, buses, and construction equipment. Notable brands include Tata Motors, Jaguar, Land Rover, and recently, internal innovations like the Tata Nexon EV.\n",
      "\n",
      "  - **Key Models:**\n",
      "    - **Tata Nano:** Once marketed as the world’s cheapest car.\n",
      "    - **Tata Harrier:** A popular SUV in India and emerging markets.\n",
      "    - **Jaguar Land Rover (JLR):** Acquired in 2008, catering to luxury and performance vehicle segments globally.\n",
      "\n",
      "### **c. Steel**\n",
      "\n",
      "- **Tata Steel:**\n",
      "  - **Founded:** 1907\n",
      "  - **Revenue:** USD 23 billion (2023)\n",
      "  - **Overview:** One of the top steel manufacturers globally, Tata Steel operates in over 26 countries with key operations in India and Europe (after acquiring Corus). It produces a wide range of steel products used in construction, automotive, packaging, and more.\n",
      "\n",
      "### **d. Energy**\n",
      "\n",
      "- **Tata Power:**\n",
      "  - **Founded:** 1910\n",
      "  - **Revenue:** USD 12 billion (2023)\n",
      "  - **Overview:** India's largest integrated power company, Tata Power generates, transmits, and distributes electricity. It has diversified into renewable energy sources like solar and wind, aligning with global sustainability trends.\n",
      "\n",
      "### **e. Consumer and Retail**\n",
      "\n",
      "- **Titan Company:**\n",
      "  - **Founded:** 1984\n",
      "  - **Revenue:** USD 3 billion (2023)\n",
      "  - **Brands:** Titan (watches and accessories), Tanishq (jewelry), Fastrack (youth-oriented accessories), and more.\n",
      "  \n",
      "- **Tata Consumer Products:**\n",
      "  - **Focus:** Beverages, food, and other consumer goods.\n",
      "  - **Brands:** Taj Mahal Tea, Tetley, Himalayan Water, Tata Salt, and more.\n",
      "\n",
      "### **f. Hospitality**\n",
      "\n",
      "- **Indian Hotels Company Limited (IHCL):**\n",
      "  - **Founded:** 1903\n",
      "  - **Revenue:** USD 1.5 billion (2023)\n",
      "  - **Brands:** Taj Hotels, Vivanta, Ginger, and others. IHCL operates luxury, premium, and budget hotels across India and internationally.\n",
      "\n",
      "### **g. Telecommunications**\n",
      "\n",
      "- **Tata Communications:**\n",
      "  - **Founded:** 1986\n",
      "  - **Revenue:** USD 3 billion (2023)\n",
      "  - **Overview:** A global digital ecosystem enabler, Tata Communications provides telecommunications services, including voice, data, and Internet services to businesses worldwide.\n",
      "\n",
      "### **h. Chemicals and Materials**\n",
      "\n",
      "- **Tata Chemicals:**\n",
      "  - **Founded:** 1939\n",
      "  - **Revenue:** USD 2 billion (2023)\n",
      "  - **Products:** Petrochemicals, soda ash, chemicals for agriculture, and consumer products.\n",
      "\n",
      "### **i. Financial Services**\n",
      "\n",
      "- **Tata Capital:**\n",
      "  - **Overview:** Provides financial products including loans, investment solutions, and wealth management services.\n",
      "\n",
      "- **Tata AIG General Insurance:**\n",
      "  - **Joint Venture:** With American International Group (AIG), offering a range of general insurance products.\n",
      "\n",
      "### **j. Other Ventures**\n",
      "\n",
      "- **Tata Housing:** Real estate development.\n",
      "- **Tata Medical and Diagnostics:** Healthcare services and diagnostics.\n",
      "- **Tata Elxsi:** Design and technology services for product engineering.\n",
      "\n",
      "## **4. Leadership and Governance**\n",
      "\n",
      "### **Board of Directors and Key Executives**\n",
      "\n",
      "- **Chairman:** Natarajan Chandrasekaran (since February 2017)\n",
      "  - Formerly CEO of Tata Consultancy Services (TCS).\n",
      "\n",
      "- **Key Leaders:**\n",
      "  - **Guenter Butschek:** Vice Chairman\n",
      "  - **Cyrus Mistry:** Former Chairman (Chief Executive until 2016)\n",
      "\n",
      "### **Corporate Governance**\n",
      "\n",
      "The Tata Group is renowned for its strong adherence to ethical practices, transparency, and stakeholder engagement. The governance framework emphasizes accountability, sustainability, and long-term value creation.\n",
      "\n",
      "### **Tata Sons**\n",
      "\n",
      "- **Role:** The holding company of the entire Tata Group, Tata Sons manages the strategic direction and oversight of all subsidiaries.\n",
      "\n",
      "- **Ownership:** Majority owned by philanthropic trusts, primarily the Sir Dorabji Tata Trust and the Sir Ratan Tata Trust, which hold over 66% of Tata Sons' equity.\n",
      "\n",
      "## **5. Social Responsibility and Sustainability**\n",
      "\n",
      "### **Tata Trusts**\n",
      "\n",
      "- **Overview:** Among the oldest philanthropic organizations in India, Tata Trusts oversee the majority of Tata Sons' profits and invest in social and community development initiatives.\n",
      "\n",
      "- **Focus Areas:**\n",
      "  - Education\n",
      "  - Healthcare\n",
      "  - Rural development\n",
      "  - Arts and culture\n",
      "  - Environment\n",
      "\n",
      "### **Sustainability Initiatives**\n",
      "\n",
      "- **Environmental Stewardship:** Tata companies are committed to reducing their carbon footprint, managing resources sustainably, and investing in renewable energy projects.\n",
      "\n",
      "- **Community Engagement:** Programs aimed at improving the quality of life in communities where Tata operates, including sanitation, housing, and skill development.\n",
      "\n",
      "- **Inclusive Growth:** Emphasis on gender equality, inclusive hiring practices, and support for marginalized communities.\n",
      "\n",
      "## **6. Global Presence and Impact**\n",
      "\n",
      "### **Geographical Footprint**\n",
      "\n",
      "- **Operations:** Present in over 100 countries, with significant operations in Asia, Africa, Europe, the Americas, and the Middle East.\n",
      "\n",
      "- **Key Markets:** India, United Kingdom, South Africa, USA, and emerging markets in Asia and Africa.\n",
      "\n",
      "### **Major Global Acquisitions**\n",
      "\n",
      "- **Corus Group (2016):** Acquisition of the European steelmaker for approximately USD 5.2 billion, enhancing Tata Steel's global footprint.\n",
      "\n",
      "- **Jaguar Land Rover (JLR) (2008):** Acquisition for around GBP 1.15 billion, transforming into a major player in the luxury automotive sector.\n",
      "\n",
      "- **Tetley (2000):** Acquisition of the British tea company for approximately USD 450 million, strengthening Tata Consumer Products' presence in the global tea market.\n",
      "\n",
      "### **Research and Development**\n",
      "\n",
      "- **Innovation Hubs:** The group invests heavily in R&D across its sectors, establishing innovation centers to foster technological advancements and product development.\n",
      "\n",
      "- **Collaborations:** Partnerships with global tech firms, academic institutions, and research organizations to drive innovation.\n",
      "\n",
      "## **7. Challenges and Future Outlook**\n",
      "\n",
      "### **Challenges**\n",
      "\n",
      "- **Market Competition:** Facing intense competition in various sectors from both domestic and international players.\n",
      "\n",
      "- **Regulatory Environment:** Navigating complex regulatory landscapes across different countries and industries.\n",
      "\n",
      "- **Economic Fluctuations:** Exposure to global economic cycles, commodity price volatility, and currency fluctuations.\n",
      "\n",
      "- **Sustainability Pressures:** Increasing expectations for environmental and social governance (ESG) compliance.\n",
      "\n",
      "### **Future Strategies**\n",
      "\n",
      "- **Digital Transformation:** Leveraging technology to enhance operations, customer engagement, and service delivery across all sectors.\n",
      "\n",
      "- **Sustainable Growth:** Continuing investments in renewable energy, sustainable products, and green technologies.\n",
      "\n",
      "- **Global Expansion:** Exploring new markets and strengthening presence in existing ones through strategic acquisitions and partnerships.\n",
      "\n",
      "- **Innovation and R&D:** Focusing on research and development to stay ahead in innovation, especially in IT, automotive, and consumer products.\n",
      "\n",
      "## **8. Notable Achievements and Recognition**\n",
      "\n",
      "- **Forbes Global 2000:** Multiple Tata companies are consistently ranked among the world's largest and most influential firms.\n",
      "\n",
      "- **Fortune Global 500:** Tata Group companies like TCS, Tata Motors, and Tata Steel feature prominently.\n",
      "\n",
      "- **Awards and Honors:** Recognized for excellence in corporate governance, sustainability, and innovation by various global institutions.\n",
      "\n",
      "### **Tata Style Leadership Awards**\n",
      "\n",
      "- **Purpose:** To honor and recognize leaders across the world who embody the values and spirit of the Tata legacy.\n",
      "\n",
      "## **9. Corporate Culture and Values**\n",
      "\n",
      "### **Core Values**\n",
      "\n",
      "- **Integrity:** Maintaining the highest ethical standards in all business dealings.\n",
      "  \n",
      "- **Excellence:** Pursuing excellence in products, services, and operations.\n",
      "  \n",
      "- **Pioneering Spirit:** Embracing innovation and pioneering new industries and technologies.\n",
      "  \n",
      "- **Responsibility:** Commitment to corporate social responsibility and sustainable development.\n",
      "\n",
      "### **Employee Engagement**\n",
      "\n",
      "- **Diversity and Inclusion:** Promoting a diverse workforce and inclusive workplace culture.\n",
      "  \n",
      "- **Training and Development:** Investing in employee skill development and career progression.\n",
      "  \n",
      "- **Work-Life Balance:** Implementing policies that support the well-being of employees.\n",
      "\n",
      "## **10. Case Studies of Key Tata Group Companies**\n",
      "\n",
      "### **a. Tata Consultancy Services (TCS)**\n",
      "\n",
      "- **Global IT Leader:** TCS is a flagship company driving the group’s presence in the global IT services market.\n",
      "  \n",
      "- **Innovation:** Invests in cutting-edge technologies like artificial intelligence, machine learning, blockchain, and Internet of Things (IoT).\n",
      "  \n",
      "- **Sustainability:** Committed to carbon neutrality and has initiated various green IT practices.\n",
      "\n",
      "### **b. Tata Motors**\n",
      "\n",
      "- **Product Diversity:** From commercial vehicles like trucks and buses to passenger vehicles including sedans, SUVs, and electric cars.\n",
      "  \n",
      "- **Electric Mobility:** Launched the Tata Nexon EV, contributing to India’s electric vehicle (EV) revolution.\n",
      "  \n",
      "- **Global Reach:** Exports vehicles to numerous countries and has manufacturing facilities in multiple regions.\n",
      "\n",
      "### **c. Tata Steel**\n",
      "\n",
      "- **Integrated Operations:** Engages in the entire value chain from iron ore mining to steel production and distribution.\n",
      "  \n",
      "- **Sustainability Initiatives:** Focus on reducing emissions, managing waste, and promoting recycling.\n",
      "\n",
      "### **d. Tata Chemicals**\n",
      "\n",
      "- **Innovation in Agrochemicals:** Develops fertilizers and agricultural solutions to support sustainable farming practices.\n",
      "  \n",
      "- **Consumer Products:** Produces essential consumer goods like salt, packaged foods, and beverages.\n",
      "\n",
      "## **Conclusion**\n",
      "\n",
      "The **Tata Group** stands as a testament to India's industrial prowess and ethical business practices. Through strategic diversification, global acquisitions, and a steadfast commitment to social responsibility, the Tata Group has maintained its position as a leading conglomerate on the world stage. Its ability to adapt to changing market dynamics, embrace innovation, and uphold strong corporate values continues to drive its success across various industries. As the group navigates future challenges and opportunities, its legacy of excellence and integrity is poised to sustain its influential role in the global economy.\n",
      "\n",
      "\n",
      "here is output from LLM_Output_Token_Counter\n",
      "_______\n",
      "total token number in generated answer is 1802\n",
      "\n",
      "\n"
     ]
    }
   ],
   "source": [
    "for output in app.stream(\"tell me about the tata enterpirse in very detail.\"):\n",
    "    for key,value in output.items():\n",
    "        print(f\"here is output from {key}\")\n",
    "        print(\"_______\")\n",
    "        print(value)\n",
    "        print(\"\\n\")"
   ]
  }
 ],
 "metadata": {
  "kernelspec": {
   "display_name": "Python 3",
   "language": "python",
   "name": "python3"
  },
  "language_info": {
   "codemirror_mode": {
    "name": "ipython",
    "version": 3
   },
   "file_extension": ".py",
   "mimetype": "text/x-python",
   "name": "python",
   "nbconvert_exporter": "python",
   "pygments_lexer": "ipython3",
   "version": "3.12.0"
  }
 },
 "nbformat": 4,
 "nbformat_minor": 5
}
