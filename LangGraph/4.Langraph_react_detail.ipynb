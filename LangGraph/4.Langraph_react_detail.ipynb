{
 "cells": [
  {
   "cell_type": "code",
   "execution_count": 1,
   "id": "259b41da",
   "metadata": {},
   "outputs": [
    {
     "name": "stdout",
     "output_type": "stream",
     "text": [
      "ok\n"
     ]
    }
   ],
   "source": [
    "print(\"ok\")"
   ]
  },
  {
   "cell_type": "code",
   "execution_count": 48,
   "id": "6e1c6922",
   "metadata": {},
   "outputs": [],
   "source": [
    "# configure model\n",
    "from langchain_openai import ChatOpenAI\n",
    "\n",
    "model = ChatOpenAI(model=\"gpt-4.1\",temperature=0)"
   ]
  },
  {
   "cell_type": "markdown",
   "id": "7f7737a1",
   "metadata": {},
   "source": [
    "this is my custom tools\n"
   ]
  },
  {
   "cell_type": "code",
   "execution_count": 49,
   "id": "0441b4b0",
   "metadata": {},
   "outputs": [],
   "source": [
    "from langchain.tools import tool\n",
    "\n",
    "@tool\n",
    "def multiply(a: int, b: int) -> int:\n",
    "    \"\"\"\n",
    "    Multiply two integers.\n",
    "\n",
    "    Args:\n",
    "        a (int): The first integer.\n",
    "        b (int): The second integer.\n",
    "\n",
    "    Returns:\n",
    "        int: The product of a and b.\n",
    "    \"\"\"\n",
    "    return a * b\n",
    "\n",
    "@tool\n",
    "def add(a: int, b: int) -> int:\n",
    "    \"\"\"\n",
    "    Add two integers.\n",
    "\n",
    "    Args:\n",
    "        a (int): The first integer.\n",
    "        b (int): The second integer.\n",
    "\n",
    "    Returns:\n",
    "        int: The sum of a and b.\n",
    "    \"\"\"\n",
    "    return a + b\n",
    "\n",
    "@tool\n",
    "def divide(a: int, b: int) -> float:\n",
    "    \"\"\"\n",
    "    Divide two integers.\n",
    "\n",
    "    Args:\n",
    "        a (int): The numerator.\n",
    "        b (int): The denominator (must not be 0).\n",
    "\n",
    "    Returns:\n",
    "        float: The result of division.\n",
    "    \"\"\"\n",
    "    if b == 0:\n",
    "        raise ValueError(\"Denominator cannot be zero.\")\n",
    "    return a / b"
   ]
  },
  {
   "cell_type": "markdown",
   "id": "33932b9b",
   "metadata": {},
   "source": [
    "importing the inbuilt tool\n"
   ]
  },
  {
   "cell_type": "code",
   "execution_count": 50,
   "id": "5b66a91d",
   "metadata": {},
   "outputs": [],
   "source": [
    "from langchain_community.tools import DuckDuckGoSearchRun\n",
    "search=DuckDuckGoSearchRun()"
   ]
  },
  {
   "cell_type": "code",
   "execution_count": null,
   "id": "57ce2f98",
   "metadata": {},
   "outputs": [],
   "source": [
    "search.invoke(\"what is the latest update on iphone17 release?\")\n"
   ]
  },
  {
   "cell_type": "code",
   "execution_count": 51,
   "id": "6202beb6",
   "metadata": {},
   "outputs": [],
   "source": [
    "tools=[multiply, add, divide, search]\n"
   ]
  },
  {
   "cell_type": "code",
   "execution_count": 52,
   "id": "5950a7f7",
   "metadata": {},
   "outputs": [],
   "source": [
    "llm_with_tools=model.bind_tools(tools)\n"
   ]
  },
  {
   "cell_type": "code",
   "execution_count": 53,
   "id": "fc554263",
   "metadata": {},
   "outputs": [],
   "source": [
    "response=llm_with_tools.invoke(\"hi\")\n"
   ]
  },
  {
   "cell_type": "code",
   "execution_count": 54,
   "id": "29565d7d",
   "metadata": {},
   "outputs": [
    {
     "data": {
      "text/plain": [
       "'Hello! How can I help you today?'"
      ]
     },
     "execution_count": 54,
     "metadata": {},
     "output_type": "execute_result"
    }
   ],
   "source": [
    "response.content\n"
   ]
  },
  {
   "cell_type": "code",
   "execution_count": 55,
   "id": "ce16d6a0",
   "metadata": {},
   "outputs": [
    {
     "data": {
      "text/plain": [
       "[]"
      ]
     },
     "execution_count": 55,
     "metadata": {},
     "output_type": "execute_result"
    }
   ],
   "source": [
    "response.tool_calls\n"
   ]
  },
  {
   "cell_type": "code",
   "execution_count": 56,
   "id": "3be26fca",
   "metadata": {},
   "outputs": [],
   "source": [
    "response=llm_with_tools.invoke(\"what is 2+2?\")\n"
   ]
  },
  {
   "cell_type": "code",
   "execution_count": 57,
   "id": "c0e37770",
   "metadata": {},
   "outputs": [
    {
     "data": {
      "text/plain": [
       "''"
      ]
     },
     "execution_count": 57,
     "metadata": {},
     "output_type": "execute_result"
    }
   ],
   "source": [
    "response.content\n"
   ]
  },
  {
   "cell_type": "code",
   "execution_count": 58,
   "id": "743beb67",
   "metadata": {},
   "outputs": [
    {
     "data": {
      "text/plain": [
       "[{'name': 'add',\n",
       "  'args': {'a': 2, 'b': 2},\n",
       "  'id': 'call_N42ZBS3nCL4OqyYyxA6hA1on',\n",
       "  'type': 'tool_call'}]"
      ]
     },
     "execution_count": 58,
     "metadata": {},
     "output_type": "execute_result"
    }
   ],
   "source": [
    "response.tool_calls\n"
   ]
  },
  {
   "cell_type": "code",
   "execution_count": 59,
   "id": "2390cf54",
   "metadata": {},
   "outputs": [],
   "source": [
    "response=llm_with_tools.invoke(\"what is 10/2?\")\n"
   ]
  },
  {
   "cell_type": "code",
   "execution_count": 60,
   "id": "1212e4c9",
   "metadata": {},
   "outputs": [
    {
     "data": {
      "text/plain": [
       "''"
      ]
     },
     "execution_count": 60,
     "metadata": {},
     "output_type": "execute_result"
    }
   ],
   "source": [
    "response.content\n"
   ]
  },
  {
   "cell_type": "code",
   "execution_count": 61,
   "id": "76d6b565",
   "metadata": {},
   "outputs": [
    {
     "data": {
      "text/plain": [
       "[{'name': 'divide',\n",
       "  'args': {'a': 10, 'b': 2},\n",
       "  'id': 'call_uQotlYO9pZaWOvG4YJr1COKi',\n",
       "  'type': 'tool_call'}]"
      ]
     },
     "execution_count": 61,
     "metadata": {},
     "output_type": "execute_result"
    }
   ],
   "source": [
    "response.tool_calls\n"
   ]
  },
  {
   "cell_type": "code",
   "execution_count": 62,
   "id": "2ec174a6",
   "metadata": {},
   "outputs": [],
   "source": [
    "response=llm_with_tools.invoke(\"what is a current age of the TATA Group?\")\n"
   ]
  },
  {
   "cell_type": "code",
   "execution_count": 63,
   "id": "fde9764a",
   "metadata": {},
   "outputs": [
    {
     "data": {
      "text/plain": [
       "AIMessage(content='', additional_kwargs={'tool_calls': [{'id': 'call_C2IgDfVfChQ1cTxIS03tVHcQ', 'function': {'arguments': '{\"query\":\"TATA Group founding year\"}', 'name': 'duckduckgo_search'}, 'type': 'function'}], 'refusal': None}, response_metadata={'token_usage': {'completion_tokens': 21, 'prompt_tokens': 237, 'total_tokens': 258, 'completion_tokens_details': {'accepted_prediction_tokens': 0, 'audio_tokens': 0, 'reasoning_tokens': 0, 'rejected_prediction_tokens': 0}, 'prompt_tokens_details': {'audio_tokens': 0, 'cached_tokens': 0}}, 'model_name': 'gpt-4.1-2025-04-14', 'system_fingerprint': 'fp_799e4ca3f1', 'id': 'chatcmpl-BikXPsbibtHQK24smXOMdtNEN2m8k', 'service_tier': 'default', 'finish_reason': 'tool_calls', 'logprobs': None}, id='run--d60c8a90-4f8e-4000-93e3-ee91867712ec-0', tool_calls=[{'name': 'duckduckgo_search', 'args': {'query': 'TATA Group founding year'}, 'id': 'call_C2IgDfVfChQ1cTxIS03tVHcQ', 'type': 'tool_call'}], usage_metadata={'input_tokens': 237, 'output_tokens': 21, 'total_tokens': 258, 'input_token_details': {'audio': 0, 'cache_read': 0}, 'output_token_details': {'audio': 0, 'reasoning': 0}})"
      ]
     },
     "execution_count": 63,
     "metadata": {},
     "output_type": "execute_result"
    }
   ],
   "source": [
    "response"
   ]
  },
  {
   "cell_type": "code",
   "execution_count": 64,
   "id": "99cf0f39",
   "metadata": {},
   "outputs": [
    {
     "data": {
      "text/plain": [
       "''"
      ]
     },
     "execution_count": 64,
     "metadata": {},
     "output_type": "execute_result"
    }
   ],
   "source": [
    "response.content\n"
   ]
  },
  {
   "cell_type": "code",
   "execution_count": 65,
   "id": "fae41a26",
   "metadata": {},
   "outputs": [
    {
     "data": {
      "text/plain": [
       "[{'name': 'duckduckgo_search',\n",
       "  'args': {'query': 'TATA Group founding year'},\n",
       "  'id': 'call_C2IgDfVfChQ1cTxIS03tVHcQ',\n",
       "  'type': 'tool_call'}]"
      ]
     },
     "execution_count": 65,
     "metadata": {},
     "output_type": "execute_result"
    }
   ],
   "source": [
    "response.tool_calls\n"
   ]
  },
  {
   "cell_type": "code",
   "execution_count": 66,
   "id": "7d533c29",
   "metadata": {},
   "outputs": [],
   "source": [
    "SYSTEM_PROMPT=\"You are a helpful assistant tasked with using search and performing arithmetic on a set of inputs.\"\n"
   ]
  },
  {
   "cell_type": "code",
   "execution_count": 67,
   "id": "76260a34",
   "metadata": {},
   "outputs": [],
   "source": [
    "user_query=[\"tell me what is 2+2\"]\n"
   ]
  },
  {
   "cell_type": "code",
   "execution_count": 68,
   "id": "73cce733",
   "metadata": {},
   "outputs": [
    {
     "data": {
      "text/plain": [
       "['You are a helpful assistant tasked with using search and performing arithmetic on a set of inputs.',\n",
       " 'tell me what is 2+2']"
      ]
     },
     "execution_count": 68,
     "metadata": {},
     "output_type": "execute_result"
    }
   ],
   "source": [
    "[SYSTEM_PROMPT]+user_query\n"
   ]
  },
  {
   "cell_type": "code",
   "execution_count": 69,
   "id": "a6b09eca",
   "metadata": {},
   "outputs": [],
   "source": [
    "def function_1(state:MessagesState):\n",
    "    \n",
    "    user_question=state[\"messages\"]\n",
    "    \n",
    "    input_question = [SYSTEM_PROMPT]+user_question\n",
    "    \n",
    "    response = llm_with_tools.invoke(input_question)\n",
    "    \n",
    "    return {\n",
    "        \"messages\":[response]\n",
    "    }\n",
    "    "
   ]
  },
  {
   "cell_type": "code",
   "execution_count": 70,
   "id": "798de51e",
   "metadata": {},
   "outputs": [],
   "source": [
    "from langchain_core.messages import HumanMessage, SystemMessage\n",
    "from langgraph.graph import MessagesState,StateGraph, END, START"
   ]
  },
  {
   "cell_type": "code",
   "execution_count": 71,
   "id": "6a49cb66",
   "metadata": {},
   "outputs": [],
   "source": [
    "builder=StateGraph(MessagesState)\n"
   ]
  },
  {
   "cell_type": "code",
   "execution_count": 72,
   "id": "226312f8",
   "metadata": {},
   "outputs": [
    {
     "data": {
      "text/plain": [
       "<langgraph.graph.state.StateGraph at 0x26d7e74d220>"
      ]
     },
     "execution_count": 72,
     "metadata": {},
     "output_type": "execute_result"
    }
   ],
   "source": [
    "builder.add_node(\"llm_decision_step\",function_1)\n"
   ]
  },
  {
   "cell_type": "code",
   "execution_count": 73,
   "id": "782bd86b",
   "metadata": {},
   "outputs": [
    {
     "data": {
      "text/plain": [
       "[StructuredTool(name='multiply', description='Multiply two integers.\\n\\nArgs:\\n    a (int): The first integer.\\n    b (int): The second integer.\\n\\nReturns:\\n    int: The product of a and b.', args_schema=<class 'langchain_core.utils.pydantic.multiply'>, func=<function multiply at 0x0000026D0084E200>),\n",
       " StructuredTool(name='add', description='Add two integers.\\n\\nArgs:\\n    a (int): The first integer.\\n    b (int): The second integer.\\n\\nReturns:\\n    int: The sum of a and b.', args_schema=<class 'langchain_core.utils.pydantic.add'>, func=<function add at 0x0000026D0065B420>),\n",
       " StructuredTool(name='divide', description='Divide two integers.\\n\\nArgs:\\n    a (int): The numerator.\\n    b (int): The denominator (must not be 0).\\n\\nReturns:\\n    float: The result of division.', args_schema=<class 'langchain_core.utils.pydantic.divide'>, func=<function divide at 0x0000026D0084DF80>),\n",
       " DuckDuckGoSearchRun(api_wrapper=DuckDuckGoSearchAPIWrapper(region='wt-wt', safesearch='moderate', time='y', max_results=5, backend='auto', source='text'))]"
      ]
     },
     "execution_count": 73,
     "metadata": {},
     "output_type": "execute_result"
    }
   ],
   "source": [
    "tools"
   ]
  },
  {
   "cell_type": "code",
   "execution_count": 74,
   "id": "51ca30bb",
   "metadata": {},
   "outputs": [
    {
     "data": {
      "text/plain": [
       "<langgraph.graph.state.StateGraph at 0x26d7e74d220>"
      ]
     },
     "execution_count": 74,
     "metadata": {},
     "output_type": "execute_result"
    }
   ],
   "source": [
    "from langgraph.prebuilt import ToolNode\n",
    "builder.add_node(\"tools\",ToolNode(tools))"
   ]
  },
  {
   "cell_type": "code",
   "execution_count": 75,
   "id": "9d5a4cb4",
   "metadata": {},
   "outputs": [
    {
     "data": {
      "text/plain": [
       "<langgraph.graph.state.StateGraph at 0x26d7e74d220>"
      ]
     },
     "execution_count": 75,
     "metadata": {},
     "output_type": "execute_result"
    }
   ],
   "source": [
    "builder.add_edge(START,\"llm_decision_step\")\n"
   ]
  },
  {
   "cell_type": "code",
   "execution_count": 76,
   "id": "454b48ba",
   "metadata": {},
   "outputs": [
    {
     "data": {
      "text/plain": [
       "<langgraph.graph.state.StateGraph at 0x26d7e74d220>"
      ]
     },
     "execution_count": 76,
     "metadata": {},
     "output_type": "execute_result"
    }
   ],
   "source": [
    "from langgraph.prebuilt import tools_condition\n",
    "builder.add_conditional_edges(\n",
    "    \"llm_decision_step\",\n",
    "    tools_condition,\n",
    ")"
   ]
  },
  {
   "cell_type": "code",
   "execution_count": 77,
   "id": "6dfeb3f1",
   "metadata": {},
   "outputs": [
    {
     "data": {
      "text/plain": [
       "<langgraph.graph.state.StateGraph at 0x26d7e74d220>"
      ]
     },
     "execution_count": 77,
     "metadata": {},
     "output_type": "execute_result"
    }
   ],
   "source": [
    "builder.add_edge(\"tools\",\"llm_decision_step\")\n"
   ]
  },
  {
   "cell_type": "code",
   "execution_count": 78,
   "id": "cef70fb0",
   "metadata": {},
   "outputs": [],
   "source": [
    "react_graph=builder.compile()\n"
   ]
  },
  {
   "cell_type": "code",
   "execution_count": 79,
   "id": "bc6346d6",
   "metadata": {},
   "outputs": [
    {
     "data": {
      "image/png": "[encoded data removed]",
      "text/plain": [
       "<IPython.core.display.Image object>"
      ]
     },
     "metadata": {},
     "output_type": "display_data"
    }
   ],
   "source": [
    "from IPython.display import Image, display\n",
    "display(Image(react_graph.get_graph().draw_mermaid_png()))"
   ]
  },
  {
   "cell_type": "code",
   "execution_count": 80,
   "id": "25d690d4",
   "metadata": {},
   "outputs": [],
   "source": [
    "message=[HumanMessage(content=\"What is 2 times of narendramodi's age?\")]\n"
   ]
  },
  {
   "cell_type": "code",
   "execution_count": 81,
   "id": "0c65925e",
   "metadata": {},
   "outputs": [
    {
     "data": {
      "text/plain": [
       "{'messages': [HumanMessage(content=\"What is 2 times of narendramodi's age?\", additional_kwargs={}, response_metadata={}, id='a45bad57-3f58-4c49-a152-e5e2daa40d7b'),\n",
       "  AIMessage(content='', additional_kwargs={'tool_calls': [{'id': 'call_a0Eiu6D8WoYxV7lpPyn8Wqlu', 'function': {'arguments': '{\"query\":\"Narendra Modi age\"}', 'name': 'duckduckgo_search'}, 'type': 'function'}], 'refusal': None}, response_metadata={'token_usage': {'completion_tokens': 20, 'prompt_tokens': 261, 'total_tokens': 281, 'completion_tokens_details': {'accepted_prediction_tokens': 0, 'audio_tokens': 0, 'reasoning_tokens': 0, 'rejected_prediction_tokens': 0}, 'prompt_tokens_details': {'audio_tokens': 0, 'cached_tokens': 0}}, 'model_name': 'gpt-4.1-2025-04-14', 'system_fingerprint': 'fp_799e4ca3f1', 'id': 'chatcmpl-BikYOrAUDn9txpYhyVnkqIsRJihYT', 'service_tier': 'default', 'finish_reason': 'tool_calls', 'logprobs': None}, id='run--168010c5-1dc0-4d06-88a7-5e571fc2cd9d-0', tool_calls=[{'name': 'duckduckgo_search', 'args': {'query': 'Narendra Modi age'}, 'id': 'call_a0Eiu6D8WoYxV7lpPyn8Wqlu', 'type': 'tool_call'}], usage_metadata={'input_tokens': 261, 'output_tokens': 20, 'total_tokens': 281, 'input_token_details': {'audio': 0, 'cache_read': 0}, 'output_token_details': {'audio': 0, 'reasoning': 0}}),\n",
       "  ToolMessage(content=\"Error: DuckDuckGoSearchException(DuckDuckGoSearchException('https://lite.duckduckgo.com/lite/ RuntimeError: error sending request for url (https://lite.duckduckgo.com/lite/): client error (Connect)\\\\n\\\\nCaused by:\\\\n    0: client error (Connect)\\\\n    1: TLS handshake failed: cert verification failed - unable to get local issuer certificate [CERTIFICATE_VERIFY_FAILED]\\\\n    2: [CERTIFICATE_VERIFY_FAILED]\\\\n    3: [CERTIFICATE_VERIFY_FAILED]'))\\n Please fix your mistakes.\", name='duckduckgo_search', id='026ef52f-d7e0-479c-8a7f-026b1ae95ff3', tool_call_id='call_a0Eiu6D8WoYxV7lpPyn8Wqlu', status='error'),\n",
       "  AIMessage(content='', additional_kwargs={'tool_calls': [{'id': 'call_G6ahK6sv3u8Oh2iYLASiWy3W', 'function': {'arguments': '{\"query\":\"Narendra Modi current age\"}', 'name': 'duckduckgo_search'}, 'type': 'function'}], 'refusal': None}, response_metadata={'token_usage': {'completion_tokens': 21, 'prompt_tokens': 411, 'total_tokens': 432, 'completion_tokens_details': {'accepted_prediction_tokens': 0, 'audio_tokens': 0, 'reasoning_tokens': 0, 'rejected_prediction_tokens': 0}, 'prompt_tokens_details': {'audio_tokens': 0, 'cached_tokens': 0}}, 'model_name': 'gpt-4.1-2025-04-14', 'system_fingerprint': 'fp_799e4ca3f1', 'id': 'chatcmpl-BikYR7H0eDB6hML1KQI11qgh52eEy', 'service_tier': 'default', 'finish_reason': 'tool_calls', 'logprobs': None}, id='run--9dc9d7ea-1e3e-4997-a7b3-aea147a888ba-0', tool_calls=[{'name': 'duckduckgo_search', 'args': {'query': 'Narendra Modi current age'}, 'id': 'call_G6ahK6sv3u8Oh2iYLASiWy3W', 'type': 'tool_call'}], usage_metadata={'input_tokens': 411, 'output_tokens': 21, 'total_tokens': 432, 'input_token_details': {'audio': 0, 'cache_read': 0}, 'output_token_details': {'audio': 0, 'reasoning': 0}}),\n",
       "  ToolMessage(content=\"Error: DuckDuckGoSearchException(DuckDuckGoSearchException('https://lite.duckduckgo.com/lite/ RuntimeError: error sending request for url (https://lite.duckduckgo.com/lite/): client error (Connect)\\\\n\\\\nCaused by:\\\\n    0: client error (Connect)\\\\n    1: TLS handshake failed: cert verification failed - unable to get local issuer certificate [CERTIFICATE_VERIFY_FAILED]\\\\n    2: [CERTIFICATE_VERIFY_FAILED]\\\\n    3: [CERTIFICATE_VERIFY_FAILED]'))\\n Please fix your mistakes.\", name='duckduckgo_search', id='05ef795b-2f39-48fd-9b3b-83b4b38cf2a8', tool_call_id='call_G6ahK6sv3u8Oh2iYLASiWy3W', status='error'),\n",
       "  AIMessage(content=\"I'm currently unable to access search results to retrieve Narendra Modi's exact age. However, as of 2024, Narendra Modi was born on September 17, 1950, which makes him 73 years old.\\n\\nWould you like me to proceed with the calculation using this information?\", additional_kwargs={'refusal': None}, response_metadata={'token_usage': {'completion_tokens': 58, 'prompt_tokens': 562, 'total_tokens': 620, 'completion_tokens_details': {'accepted_prediction_tokens': 0, 'audio_tokens': 0, 'reasoning_tokens': 0, 'rejected_prediction_tokens': 0}, 'prompt_tokens_details': {'audio_tokens': 0, 'cached_tokens': 0}}, 'model_name': 'gpt-4.1-2025-04-14', 'system_fingerprint': 'fp_799e4ca3f1', 'id': 'chatcmpl-BikYTX9cNGnEI0HmW6NCAVvtdvtXB', 'service_tier': 'default', 'finish_reason': 'stop', 'logprobs': None}, id='run--39feb773-27be-4ce0-bf87-a3e022b0264e-0', usage_metadata={'input_tokens': 562, 'output_tokens': 58, 'total_tokens': 620, 'input_token_details': {'audio': 0, 'cache_read': 0}, 'output_token_details': {'audio': 0, 'reasoning': 0}})]}"
      ]
     },
     "execution_count": 81,
     "metadata": {},
     "output_type": "execute_result"
    }
   ],
   "source": [
    "react_graph.invoke({\"messages\":message})\n"
   ]
  },
  {
   "cell_type": "code",
   "execution_count": 82,
   "id": "0a5a29b7",
   "metadata": {},
   "outputs": [],
   "source": [
    "message = [HumanMessage(content=\"How much is the net worth of Elon Musk, and divide it by 2?\")]\n"
   ]
  },
  {
   "cell_type": "code",
   "execution_count": 83,
   "id": "277b881a",
   "metadata": {},
   "outputs": [
    {
     "data": {
      "text/plain": [
       "{'messages': [HumanMessage(content='How much is the net worth of Elon Musk, and divide it by 2?', additional_kwargs={}, response_metadata={}, id='b8752984-fd68-45c2-99ca-314f7dea5065'),\n",
       "  AIMessage(content='', additional_kwargs={'tool_calls': [{'id': 'call_d0XExvMC4w7QLWPyMEC21d9P', 'function': {'arguments': '{\"query\":\"Elon Musk net worth\"}', 'name': 'duckduckgo_search'}, 'type': 'function'}], 'refusal': None}, response_metadata={'token_usage': {'completion_tokens': 21, 'prompt_tokens': 265, 'total_tokens': 286, 'completion_tokens_details': {'accepted_prediction_tokens': 0, 'audio_tokens': 0, 'reasoning_tokens': 0, 'rejected_prediction_tokens': 0}, 'prompt_tokens_details': {'audio_tokens': 0, 'cached_tokens': 0}}, 'model_name': 'gpt-4.1-2025-04-14', 'system_fingerprint': 'fp_799e4ca3f1', 'id': 'chatcmpl-BikZ3SmpCoiE2vjrBZJrTwDUafDnG', 'service_tier': 'default', 'finish_reason': 'tool_calls', 'logprobs': None}, id='run--03e30398-d2d4-4b3e-b1ec-2a136ef3ad47-0', tool_calls=[{'name': 'duckduckgo_search', 'args': {'query': 'Elon Musk net worth'}, 'id': 'call_d0XExvMC4w7QLWPyMEC21d9P', 'type': 'tool_call'}], usage_metadata={'input_tokens': 265, 'output_tokens': 21, 'total_tokens': 286, 'input_token_details': {'audio': 0, 'cache_read': 0}, 'output_token_details': {'audio': 0, 'reasoning': 0}}),\n",
       "  ToolMessage(content=\"Error: DuckDuckGoSearchException(DuckDuckGoSearchException('https://lite.duckduckgo.com/lite/ RuntimeError: error sending request for url (https://lite.duckduckgo.com/lite/): client error (Connect)\\\\n\\\\nCaused by:\\\\n    0: client error (Connect)\\\\n    1: TLS handshake failed: cert verification failed - unable to get local issuer certificate [CERTIFICATE_VERIFY_FAILED]\\\\n    2: [CERTIFICATE_VERIFY_FAILED]\\\\n    3: [CERTIFICATE_VERIFY_FAILED]'))\\n Please fix your mistakes.\", name='duckduckgo_search', id='50fb7586-ff5c-44a4-86a9-438b4a1a38de', tool_call_id='call_d0XExvMC4w7QLWPyMEC21d9P', status='error'),\n",
       "  AIMessage(content='', additional_kwargs={'tool_calls': [{'id': 'call_9lCSyCYgltVvEdUNvlxFkptH', 'function': {'arguments': '{\"query\":\"current net worth of Elon Musk\"}', 'name': 'duckduckgo_search'}, 'type': 'function'}], 'refusal': None}, response_metadata={'token_usage': {'completion_tokens': 22, 'prompt_tokens': 416, 'total_tokens': 438, 'completion_tokens_details': {'accepted_prediction_tokens': 0, 'audio_tokens': 0, 'reasoning_tokens': 0, 'rejected_prediction_tokens': 0}, 'prompt_tokens_details': {'audio_tokens': 0, 'cached_tokens': 0}}, 'model_name': 'gpt-4.1-2025-04-14', 'system_fingerprint': 'fp_799e4ca3f1', 'id': 'chatcmpl-BikZ56pM8s3JKZjFjP6RUW9T0YkCZ', 'service_tier': 'default', 'finish_reason': 'tool_calls', 'logprobs': None}, id='run--8d92991b-0d90-46b5-a4d2-11022ef91020-0', tool_calls=[{'name': 'duckduckgo_search', 'args': {'query': 'current net worth of Elon Musk'}, 'id': 'call_9lCSyCYgltVvEdUNvlxFkptH', 'type': 'tool_call'}], usage_metadata={'input_tokens': 416, 'output_tokens': 22, 'total_tokens': 438, 'input_token_details': {'audio': 0, 'cache_read': 0}, 'output_token_details': {'audio': 0, 'reasoning': 0}}),\n",
       "  ToolMessage(content=\"Error: DuckDuckGoSearchException(DuckDuckGoSearchException('https://lite.duckduckgo.com/lite/ RuntimeError: error sending request for url (https://lite.duckduckgo.com/lite/): client error (Connect)\\\\n\\\\nCaused by:\\\\n    0: client error (Connect)\\\\n    1: TLS handshake failed: cert verification failed - unable to get local issuer certificate [CERTIFICATE_VERIFY_FAILED]\\\\n    2: [CERTIFICATE_VERIFY_FAILED]\\\\n    3: [CERTIFICATE_VERIFY_FAILED]'))\\n Please fix your mistakes.\", name='duckduckgo_search', id='dae18a25-3832-45ff-98fa-91f405731748', tool_call_id='call_9lCSyCYgltVvEdUNvlxFkptH', status='error'),\n",
       "  AIMessage(content=\"I'm currently unable to access real-time search results to retrieve Elon Musk's latest net worth. However, as of early 2024, Elon Musk's net worth has been reported to be around $200 billion.\\n\\nIf you would like, I can proceed to divide this estimated value by 2, or you can provide a more recent figure if you have one. Would you like to continue with the $200 billion estimate?\", additional_kwargs={'refusal': None}, response_metadata={'token_usage': {'completion_tokens': 85, 'prompt_tokens': 568, 'total_tokens': 653, 'completion_tokens_details': {'accepted_prediction_tokens': 0, 'audio_tokens': 0, 'reasoning_tokens': 0, 'rejected_prediction_tokens': 0}, 'prompt_tokens_details': {'audio_tokens': 0, 'cached_tokens': 0}}, 'model_name': 'gpt-4.1-2025-04-14', 'system_fingerprint': 'fp_799e4ca3f1', 'id': 'chatcmpl-BikZ7iUoVPOZATFmAAsHbeXzg1exl', 'service_tier': 'default', 'finish_reason': 'stop', 'logprobs': None}, id='run--9181cab9-bcdb-44fb-ae4f-0fc6ad98c21e-0', usage_metadata={'input_tokens': 568, 'output_tokens': 85, 'total_tokens': 653, 'input_token_details': {'audio': 0, 'cache_read': 0}, 'output_token_details': {'audio': 0, 'reasoning': 0}})]}"
      ]
     },
     "execution_count": 83,
     "metadata": {},
     "output_type": "execute_result"
    }
   ],
   "source": [
    "react_graph.invoke({\"messages\":message})\n"
   ]
  },
  {
   "cell_type": "code",
   "execution_count": 84,
   "id": "ee99a57a",
   "metadata": {},
   "outputs": [],
   "source": [
    "message = [HumanMessage(content=\"What is the speed of light in m/s and multiply it by 10?\")]\n"
   ]
  },
  {
   "cell_type": "code",
   "execution_count": 85,
   "id": "d663ff23",
   "metadata": {},
   "outputs": [],
   "source": [
    "response=react_graph.invoke({\"messages\":message})\n"
   ]
  },
  {
   "cell_type": "code",
   "execution_count": 86,
   "id": "80d7a629",
   "metadata": {},
   "outputs": [
    {
     "data": {
      "text/plain": [
       "\"The speed of light in a vacuum is a well-known constant: 299,792,458 meters per second (m/s).\\n\\nNow, let's multiply this value by 10:\\n\\n299,792,458 × 10 = 2,997,924,580\\n\\nSo, the speed of light multiplied by 10 is 2,997,924,580 m/s.\""
      ]
     },
     "execution_count": 86,
     "metadata": {},
     "output_type": "execute_result"
    }
   ],
   "source": [
    "response[\"messages\"][-1].content\n"
   ]
  },
  {
   "cell_type": "code",
   "execution_count": 87,
   "id": "c5d122ab",
   "metadata": {},
   "outputs": [
    {
     "name": "stdout",
     "output_type": "stream",
     "text": [
      "================================\u001b[1m Human Message \u001b[0m=================================\n",
      "\n",
      "What is the speed of light in m/s and multiply it by 10?\n",
      "==================================\u001b[1m Ai Message \u001b[0m==================================\n",
      "Tool Calls:\n",
      "  duckduckgo_search (call_RHzWrPtw8Tx8tEXeTLZwKfpO)\n",
      " Call ID: call_RHzWrPtw8Tx8tEXeTLZwKfpO\n",
      "  Args:\n",
      "    query: speed of light in m/s\n",
      "=================================\u001b[1m Tool Message \u001b[0m=================================\n",
      "Name: duckduckgo_search\n",
      "\n",
      "Error: DuckDuckGoSearchException(DuckDuckGoSearchException('https://lite.duckduckgo.com/lite/ RuntimeError: error sending request for url (https://lite.duckduckgo.com/lite/): client error (Connect)\\n\\nCaused by:\\n    0: client error (Connect)\\n    1: TLS handshake failed: cert verification failed - unable to get local issuer certificate [CERTIFICATE_VERIFY_FAILED]\\n    2: [CERTIFICATE_VERIFY_FAILED]\\n    3: [CERTIFICATE_VERIFY_FAILED]'))\n",
      " Please fix your mistakes.\n",
      "==================================\u001b[1m Ai Message \u001b[0m==================================\n",
      "\n",
      "The speed of light in a vacuum is a well-known constant: 299,792,458 meters per second (m/s).\n",
      "\n",
      "Now, let's multiply this value by 10:\n",
      "\n",
      "299,792,458 × 10 = 2,997,924,580\n",
      "\n",
      "So, the speed of light multiplied by 10 is 2,997,924,580 m/s.\n"
     ]
    }
   ],
   "source": [
    "for m in response[\"messages\"]:\n",
    "    m.pretty_print()"
   ]
  },
  {
   "cell_type": "code",
   "execution_count": 89,
   "id": "ce823151",
   "metadata": {},
   "outputs": [],
   "source": [
    "import yfinance as yf\n"
   ]
  },
  {
   "cell_type": "code",
   "execution_count": 90,
   "id": "8fb638bd",
   "metadata": {},
   "outputs": [],
   "source": [
    "@tool\n",
    "def get_stock_price(ticker:str)->str:\n",
    "    \"\"\"\n",
    "    Fetches the previous closing price of a given stock ticker from Yahoo Finance.\n",
    "\n",
    "    Args:\n",
    "        ticker (str): The stock ticker symbol (e.g., 'AAPL', 'TSLA', 'NIFTY.BO').\n",
    "\n",
    "    Returns:\n",
    "        str: A message with the stock's previous closing price.\n",
    "    \"\"\"\n",
    "    try:\n",
    "        stock = yf.Ticker(ticker)\n",
    "        price = stock.info.get('previousClose')\n",
    "        if price is None:\n",
    "            return f\"Could not fetch price for ticker '{ticker}'.\"\n",
    "        return f\"The last closing price of {ticker.upper()} was ${price:.2f}.\"\n",
    "    except Exception as e:\n",
    "        return f\"An error occurred while fetching stock data: {str(e)}\"\n",
    "     "
   ]
  },
  {
   "cell_type": "code",
   "execution_count": 91,
   "id": "5f68f6d3",
   "metadata": {},
   "outputs": [
    {
     "data": {
      "text/plain": [
       "'An error occurred while fetching stock data: Failed to perform, curl: (60) SSL certificate problem: unable to get local issuer certificate. See https://curl.se/libcurl/c/libcurl-errors.html first for more details.'"
      ]
     },
     "execution_count": 91,
     "metadata": {},
     "output_type": "execute_result"
    }
   ],
   "source": [
    "get_stock_price.invoke(\"AAPL\")\n"
   ]
  },
  {
   "cell_type": "code",
   "execution_count": 92,
   "id": "501554e3",
   "metadata": {},
   "outputs": [
    {
     "data": {
      "text/plain": [
       "[StructuredTool(name='multiply', description='Multiply two integers.\\n\\nArgs:\\n    a (int): The first integer.\\n    b (int): The second integer.\\n\\nReturns:\\n    int: The product of a and b.', args_schema=<class 'langchain_core.utils.pydantic.multiply'>, func=<function multiply at 0x0000026D0084E200>),\n",
       " StructuredTool(name='add', description='Add two integers.\\n\\nArgs:\\n    a (int): The first integer.\\n    b (int): The second integer.\\n\\nReturns:\\n    int: The sum of a and b.', args_schema=<class 'langchain_core.utils.pydantic.add'>, func=<function add at 0x0000026D0065B420>),\n",
       " StructuredTool(name='divide', description='Divide two integers.\\n\\nArgs:\\n    a (int): The numerator.\\n    b (int): The denominator (must not be 0).\\n\\nReturns:\\n    float: The result of division.', args_schema=<class 'langchain_core.utils.pydantic.divide'>, func=<function divide at 0x0000026D0084DF80>),\n",
       " DuckDuckGoSearchRun(api_wrapper=DuckDuckGoSearchAPIWrapper(region='wt-wt', safesearch='moderate', time='y', max_results=5, backend='auto', source='text'))]"
      ]
     },
     "execution_count": 92,
     "metadata": {},
     "output_type": "execute_result"
    }
   ],
   "source": [
    "tools"
   ]
  },
  {
   "cell_type": "code",
   "execution_count": 93,
   "id": "c84d3947",
   "metadata": {},
   "outputs": [],
   "source": [
    "tools = [add, multiply, divide, search,get_stock_price]"
   ]
  },
  {
   "cell_type": "code",
   "execution_count": 95,
   "id": "4b31cd82",
   "metadata": {},
   "outputs": [],
   "source": [
    "llm_with_tools=model.bind_tools(tools)\n"
   ]
  },
  {
   "cell_type": "code",
   "execution_count": 96,
   "id": "0c3e18ee",
   "metadata": {},
   "outputs": [],
   "source": [
    "response=llm_with_tools.invoke(\"can you give me a latest stock price of adani greens?\")\n"
   ]
  },
  {
   "cell_type": "code",
   "execution_count": 97,
   "id": "20377f80",
   "metadata": {},
   "outputs": [
    {
     "data": {
      "text/plain": [
       "''"
      ]
     },
     "execution_count": 97,
     "metadata": {},
     "output_type": "execute_result"
    }
   ],
   "source": [
    "response.content\n"
   ]
  },
  {
   "cell_type": "code",
   "execution_count": 98,
   "id": "9314bc59",
   "metadata": {},
   "outputs": [
    {
     "data": {
      "text/plain": [
       "[{'name': 'get_stock_price',\n",
       "  'args': {'ticker': 'ADANIGREEN.BO'},\n",
       "  'id': 'call_6HwuPqAkz7fyXOAePu5VUgUM',\n",
       "  'type': 'tool_call'}]"
      ]
     },
     "execution_count": 98,
     "metadata": {},
     "output_type": "execute_result"
    }
   ],
   "source": [
    "response.tool_calls\n"
   ]
  },
  {
   "cell_type": "code",
   "execution_count": 99,
   "id": "748dcbf4",
   "metadata": {},
   "outputs": [],
   "source": [
    "# now try with complex questions related to finanace\n",
    "SYSTEM_PROMPT = SystemMessage(\n",
    "    content=\"You are a helpful assistant tasked with using search, the yahoo finance tool and performing arithmetic on a set of inputs.\"\n",
    ")\n",
    "def function_1(state:MessagesState):\n",
    "    \n",
    "    user_question=state[\"messages\"]\n",
    "    \n",
    "    input_question = [SYSTEM_PROMPT]+user_question\n",
    "    \n",
    "    response = llm_with_tools.invoke(input_question)\n",
    "    \n",
    "    return {\n",
    "        \"messages\":[response]\n",
    "    }"
   ]
  },
  {
   "cell_type": "code",
   "execution_count": 100,
   "id": "2de25f48",
   "metadata": {},
   "outputs": [],
   "source": [
    "workflow = StateGraph(MessagesState)\n",
    "workflow.add_node(\"llm_decision_step\", function_1)\n",
    "workflow.add_node(\"tools\", ToolNode(tools))\n",
    "workflow.add_edge(START, \"llm_decision_step\")\n",
    "workflow.add_conditional_edges(\n",
    "    \"llm_decision_step\",\n",
    "    tools_condition,\n",
    ")\n",
    "workflow.add_edge(\"tools\", \"llm_decision_step\")\n",
    "react_graph2 = workflow.compile()"
   ]
  },
  {
   "cell_type": "code",
   "execution_count": 101,
   "id": "7c56c81f",
   "metadata": {},
   "outputs": [
    {
     "data": {
      "image/png": "[encoded data removed]",
      "text/plain": [
       "<IPython.core.display.Image object>"
      ]
     },
     "metadata": {},
     "output_type": "display_data"
    }
   ],
   "source": [
    "display(Image(react_graph2.get_graph(xray=True).draw_mermaid_png()))\n"
   ]
  },
  {
   "cell_type": "code",
   "execution_count": 102,
   "id": "3f258099",
   "metadata": {},
   "outputs": [],
   "source": [
    "messages = [HumanMessage(content=\"add 1000 in the current stock price of Apple.\")]\n",
    "messages = react_graph2.invoke({\"messages\": messages})"
   ]
  },
  {
   "cell_type": "code",
   "execution_count": 103,
   "id": "47e4241b",
   "metadata": {},
   "outputs": [
    {
     "name": "stdout",
     "output_type": "stream",
     "text": [
      "================================\u001b[1m Human Message \u001b[0m=================================\n",
      "\n",
      "add 1000 in the current stock price of Apple.\n",
      "==================================\u001b[1m Ai Message \u001b[0m==================================\n",
      "Tool Calls:\n",
      "  get_stock_price (call_OuNOtX1Y4f358yLPnrpGBjYf)\n",
      " Call ID: call_OuNOtX1Y4f358yLPnrpGBjYf\n",
      "  Args:\n",
      "    ticker: AAPL\n",
      "=================================\u001b[1m Tool Message \u001b[0m=================================\n",
      "Name: get_stock_price\n",
      "\n",
      "An error occurred while fetching stock data: Failed to perform, curl: (60) SSL certificate problem: unable to get local issuer certificate. See https://curl.se/libcurl/c/libcurl-errors.html first for more details.\n",
      "==================================\u001b[1m Ai Message \u001b[0m==================================\n",
      "Tool Calls:\n",
      "  duckduckgo_search (call_yBMIXRwYjaBOdoxvBGc5c1KO)\n",
      " Call ID: call_yBMIXRwYjaBOdoxvBGc5c1KO\n",
      "  Args:\n",
      "    query: current stock price of Apple\n",
      "=================================\u001b[1m Tool Message \u001b[0m=================================\n",
      "Name: duckduckgo_search\n",
      "\n",
      "Error: DuckDuckGoSearchException(DuckDuckGoSearchException('https://html.duckduckgo.com/html RuntimeError: error sending request for url (https://html.duckduckgo.com/html): client error (Connect)\\n\\nCaused by:\\n    0: client error (Connect)\\n    1: TLS handshake failed: cert verification failed - unable to get local issuer certificate [CERTIFICATE_VERIFY_FAILED]\\n    2: [CERTIFICATE_VERIFY_FAILED]\\n    3: [CERTIFICATE_VERIFY_FAILED]'))\n",
      " Please fix your mistakes.\n",
      "==================================\u001b[1m Ai Message \u001b[0m==================================\n",
      "\n",
      "I'm currently unable to retrieve the latest Apple stock price due to a technical issue. If you can provide the current price, I can add 1000 to it for you. Would you like to proceed this way?\n"
     ]
    }
   ],
   "source": [
    "for m in messages['messages']:\n",
    "    m.pretty_print()"
   ]
  },
  {
   "cell_type": "code",
   "execution_count": 104,
   "id": "6e7f24ed",
   "metadata": {},
   "outputs": [],
   "source": [
    "messages = [HumanMessage(content=\"can you give me 2 times of current stock price of Apple with the latest news of the Apple.\")]\n",
    "messages = react_graph2.invoke({\"messages\": messages})"
   ]
  },
  {
   "cell_type": "code",
   "execution_count": 105,
   "id": "3d9ec822",
   "metadata": {},
   "outputs": [
    {
     "name": "stdout",
     "output_type": "stream",
     "text": [
      "================================\u001b[1m Human Message \u001b[0m=================================\n",
      "\n",
      "can you give me 2 times of current stock price of Apple with the latest news of the Apple.\n",
      "==================================\u001b[1m Ai Message \u001b[0m==================================\n",
      "Tool Calls:\n",
      "  get_stock_price (call_HMVTWtihsyAxi2zoFWBCURyv)\n",
      " Call ID: call_HMVTWtihsyAxi2zoFWBCURyv\n",
      "  Args:\n",
      "    ticker: AAPL\n",
      "  duckduckgo_search (call_6Mou4wlA7DULjKOOpk0vxxx5)\n",
      " Call ID: call_6Mou4wlA7DULjKOOpk0vxxx5\n",
      "  Args:\n",
      "    query: latest news Apple\n",
      "=================================\u001b[1m Tool Message \u001b[0m=================================\n",
      "Name: get_stock_price\n",
      "\n",
      "An error occurred while fetching stock data: Failed to perform, curl: (60) SSL certificate problem: unable to get local issuer certificate. See https://curl.se/libcurl/c/libcurl-errors.html first for more details.\n",
      "=================================\u001b[1m Tool Message \u001b[0m=================================\n",
      "Name: duckduckgo_search\n",
      "\n",
      "Error: DuckDuckGoSearchException(DuckDuckGoSearchException('https://lite.duckduckgo.com/lite/ RuntimeError: error sending request for url (https://lite.duckduckgo.com/lite/): client error (Connect)\\n\\nCaused by:\\n    0: client error (Connect)\\n    1: TLS handshake failed: cert verification failed - unable to get local issuer certificate [CERTIFICATE_VERIFY_FAILED]\\n    2: [CERTIFICATE_VERIFY_FAILED]\\n    3: [CERTIFICATE_VERIFY_FAILED]'))\n",
      " Please fix your mistakes.\n",
      "==================================\u001b[1m Ai Message \u001b[0m==================================\n",
      "\n",
      "I'm currently unable to retrieve the latest Apple stock price or news due to a technical issue with my data sources. If you have the current Apple stock price, I can help you calculate twice its value. Alternatively, you can try again later for the latest updates and news. Let me know how you'd like to proceed!\n"
     ]
    }
   ],
   "source": [
    "for m in messages['messages']:\n",
    "    m.pretty_print()"
   ]
  }
 ],
 "metadata": {
  "kernelspec": {
   "display_name": "Python 3",
   "language": "python",
   "name": "python3"
  },
  "language_info": {
   "codemirror_mode": {
    "name": "ipython",
    "version": 3
   },
   "file_extension": ".py",
   "mimetype": "text/x-python",
   "name": "python",
   "nbconvert_exporter": "python",
   "pygments_lexer": "ipython3",
   "version": "3.12.0"
  }
 },
 "nbformat": 4,
 "nbformat_minor": 5
}
