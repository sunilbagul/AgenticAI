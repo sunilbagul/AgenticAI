{
 "cells": [
  {
   "cell_type": "markdown",
   "id": "94af9c5e",
   "metadata": {},
   "source": [
    "React Agnet = Reasoning and action"
   ]
  },
  {
   "cell_type": "code",
   "execution_count": 61,
   "id": "33b9d733",
   "metadata": {},
   "outputs": [],
   "source": [
    "# configure model\n",
    "from langchain_openai import ChatOpenAI\n",
    "\n",
    "model = ChatOpenAI(model=\"gpt-4.1\")"
   ]
  },
  {
   "cell_type": "code",
   "execution_count": 79,
   "id": "cb204325",
   "metadata": {},
   "outputs": [],
   "source": [
    "import operator\n",
    "from typing import List\n",
    "from pydantic import BaseModel , Field\n",
    "from langchain.prompts import PromptTemplate\n",
    "from typing import TypedDict, Annotated, Sequence\n",
    "from langchain_core.messages import BaseMessage\n",
    "from langchain_core.output_parsers import StrOutputParser\n",
    "from langchain_core.prompts import ChatPromptTemplate, PromptTemplate\n",
    "from langchain_core.runnables import RunnablePassthrough\n",
    "from langchain_core.messages import HumanMessage, AIMessage\n",
    "from langgraph.graph import StateGraph,MessagesState,END,START\n",
    "from langgraph.graph.message import add_messages\n",
    "from langchain_core.tools import tool\n",
    "from langgraph.prebuilt import ToolNode"
   ]
  },
  {
   "cell_type": "code",
   "execution_count": 36,
   "id": "80c1d18a",
   "metadata": {},
   "outputs": [],
   "source": [
    "def call_model(state:MessagesState):\n",
    "    question=state[\"messages\"]\n",
    "    print(\"this is current message\",question)\n",
    "    response = model.invoke(question)\n",
    "    return {\"messages\":[response]}"
   ]
  },
  {
   "cell_type": "code",
   "execution_count": 37,
   "id": "207272a4",
   "metadata": {},
   "outputs": [],
   "source": [
    "state = {\"messages\":[\"Hi how are you\"]}"
   ]
  },
  {
   "cell_type": "code",
   "execution_count": 38,
   "id": "d216cd16",
   "metadata": {},
   "outputs": [
    {
     "name": "stdout",
     "output_type": "stream",
     "text": [
      "this is current message ['Hi how are you']\n"
     ]
    },
    {
     "data": {
      "text/plain": [
       "{'messages': [AIMessage(content=\"Hello! I'm here to help you. How can I assist you today?\", additional_kwargs={'refusal': None}, response_metadata={'token_usage': {'completion_tokens': 730, 'prompt_tokens': 12, 'total_tokens': 742, 'completion_tokens_details': {'accepted_prediction_tokens': 0, 'audio_tokens': 0, 'reasoning_tokens': 704, 'rejected_prediction_tokens': 0}, 'prompt_tokens_details': {'audio_tokens': 0, 'cached_tokens': 0}}, 'model_name': 'o1-mini-2024-09-12', 'system_fingerprint': 'fp_3da8b0b088', 'id': 'chatcmpl-BiC3Oc7mmwdEo6Gfwi7TZeWe61DbZ', 'service_tier': 'default', 'finish_reason': 'stop', 'logprobs': None}, id='run--977358da-9a63-422c-bd4d-06cdd60a334a-0', usage_metadata={'input_tokens': 12, 'output_tokens': 730, 'total_tokens': 742, 'input_token_details': {'audio': 0, 'cache_read': 0}, 'output_token_details': {'audio': 0, 'reasoning': 704}})]}"
      ]
     },
     "execution_count": 38,
     "metadata": {},
     "output_type": "execute_result"
    }
   ],
   "source": [
    "call_model(state)"
   ]
  },
  {
   "cell_type": "code",
   "execution_count": 39,
   "id": "a1d2b3e7",
   "metadata": {},
   "outputs": [],
   "source": [
    "workflow = StateGraph(MessagesState)"
   ]
  },
  {
   "cell_type": "code",
   "execution_count": 40,
   "id": "42c7dd93",
   "metadata": {},
   "outputs": [
    {
     "data": {
      "text/plain": [
       "<langgraph.graph.state.StateGraph at 0x2ca7e7270e0>"
      ]
     },
     "execution_count": 40,
     "metadata": {},
     "output_type": "execute_result"
    }
   ],
   "source": [
    "workflow.add_node(\"my_bot\",call_model)"
   ]
  },
  {
   "cell_type": "code",
   "execution_count": 41,
   "id": "969efd56",
   "metadata": {},
   "outputs": [
    {
     "data": {
      "text/plain": [
       "<langgraph.graph.state.StateGraph at 0x2ca7e7270e0>"
      ]
     },
     "execution_count": 41,
     "metadata": {},
     "output_type": "execute_result"
    }
   ],
   "source": [
    "workflow.add_edge(START,\"my_bot\")"
   ]
  },
  {
   "cell_type": "code",
   "execution_count": 42,
   "id": "2b473ac2",
   "metadata": {},
   "outputs": [
    {
     "data": {
      "text/plain": [
       "<langgraph.graph.state.StateGraph at 0x2ca7e7270e0>"
      ]
     },
     "execution_count": 42,
     "metadata": {},
     "output_type": "execute_result"
    }
   ],
   "source": [
    "workflow.add_edge(\"my_bot\",END)"
   ]
  },
  {
   "cell_type": "code",
   "execution_count": 43,
   "id": "cc31b872",
   "metadata": {},
   "outputs": [],
   "source": [
    "app=workflow.compile()"
   ]
  },
  {
   "cell_type": "code",
   "execution_count": 44,
   "id": "0f99e226",
   "metadata": {},
   "outputs": [
    {
     "data": {
      "image/png": "[encoded data removed]",
      "text/plain": [
       "<IPython.core.display.Image object>"
      ]
     },
     "metadata": {},
     "output_type": "display_data"
    }
   ],
   "source": [
    "from IPython.display import Image,display\n",
    "display(Image(app.get_graph().draw_mermaid_png()))"
   ]
  },
  {
   "cell_type": "code",
   "execution_count": 45,
   "id": "c531ade4",
   "metadata": {},
   "outputs": [
    {
     "name": "stdout",
     "output_type": "stream",
     "text": [
      "this is current message [HumanMessage(content='hi hello how are you?', additional_kwargs={}, response_metadata={}, id='71010125-27b1-4a5d-888b-e23096a6d547')]\n"
     ]
    },
    {
     "data": {
      "text/plain": [
       "{'messages': [HumanMessage(content='hi hello how are you?', additional_kwargs={}, response_metadata={}, id='71010125-27b1-4a5d-888b-e23096a6d547'),\n",
       "  AIMessage(content=\"Hi! I'm doing well, thank you. How can I help you today?\", additional_kwargs={'refusal': None}, response_metadata={'token_usage': {'completion_tokens': 283, 'prompt_tokens': 13, 'total_tokens': 296, 'completion_tokens_details': {'accepted_prediction_tokens': 0, 'audio_tokens': 0, 'reasoning_tokens': 256, 'rejected_prediction_tokens': 0}, 'prompt_tokens_details': {'audio_tokens': 0, 'cached_tokens': 0}}, 'model_name': 'o1-mini-2024-09-12', 'system_fingerprint': 'fp_3da8b0b088', 'id': 'chatcmpl-BiC3vHbm7kdI83dWsEOul0WNbYGNN', 'service_tier': 'default', 'finish_reason': 'stop', 'logprobs': None}, id='run--567ea15f-e3c5-4484-9c18-d93097076f74-0', usage_metadata={'input_tokens': 13, 'output_tokens': 283, 'total_tokens': 296, 'input_token_details': {'audio': 0, 'cache_read': 0}, 'output_token_details': {'audio': 0, 'reasoning': 256}})]}"
      ]
     },
     "execution_count": 45,
     "metadata": {},
     "output_type": "execute_result"
    }
   ],
   "source": [
    "input={\"messages\":[\"hi hello how are you?\"]}\n",
    "app.invoke(input)\n"
   ]
  },
  {
   "cell_type": "code",
   "execution_count": 63,
   "id": "19a50b7f",
   "metadata": {},
   "outputs": [],
   "source": [
    "@tool\n",
    "def search(query:str):\n",
    "    \"\"\"this is my custom tool for searching a weather\"\"\"\n",
    "    if \"delhi\" in query.lower():\n",
    "        return \"the temp is 45 degree and sunny\"\n",
    "    return \"the temp is 25 degree and cloudy\""
   ]
  },
  {
   "cell_type": "code",
   "execution_count": 64,
   "id": "20187e87",
   "metadata": {},
   "outputs": [
    {
     "data": {
      "text/plain": [
       "'the temp is 25 degree and cloudy'"
      ]
     },
     "execution_count": 64,
     "metadata": {},
     "output_type": "execute_result"
    }
   ],
   "source": [
    "search.invoke(\"what is the temp in kashmir\")"
   ]
  },
  {
   "cell_type": "code",
   "execution_count": 65,
   "id": "d6b3225c",
   "metadata": {},
   "outputs": [
    {
     "data": {
      "text/plain": [
       "'the temp is 45 degree and sunny'"
      ]
     },
     "execution_count": 65,
     "metadata": {},
     "output_type": "execute_result"
    }
   ],
   "source": [
    "search.invoke(\"what is the temp in delhi\")"
   ]
  },
  {
   "cell_type": "code",
   "execution_count": 66,
   "id": "05382c45",
   "metadata": {},
   "outputs": [
    {
     "data": {
      "text/plain": [
       "AIMessage(content='I don’t have real-time weather data, but I can help you find it!\\n\\n**To check the current weather in Delhi:**\\n- Search “Delhi weather” on Google or another search engine.\\n- Use a trusted weather website or app like [AccuWeather](https://www.accuweather.com/), [Weather.com](https://weather.com/), or the [India Meteorological Department (IMD)](https://mausam.imd.gov.in/).\\n\\n**Typical Delhi weather in June/July:**\\n- **Temperature:** 28°C to 42°C\\n- **Conditions:** Hot, often humid; possibility of monsoon rains\\n- **Humidity:** Often high, especially after rain\\n\\nLet me know if you want more details or historical climate information!', additional_kwargs={'refusal': None}, response_metadata={'token_usage': {'completion_tokens': 157, 'prompt_tokens': 15, 'total_tokens': 172, 'completion_tokens_details': {'accepted_prediction_tokens': 0, 'audio_tokens': 0, 'reasoning_tokens': 0, 'rejected_prediction_tokens': 0}, 'prompt_tokens_details': {'audio_tokens': 0, 'cached_tokens': 0}}, 'model_name': 'gpt-4.1-2025-04-14', 'system_fingerprint': 'fp_b3f1157249', 'id': 'chatcmpl-BiCjI30AgTmqomEz6P6dFA2ISzhkz', 'service_tier': 'default', 'finish_reason': 'stop', 'logprobs': None}, id='run--ebb9fe1d-47b4-41b8-baf9-9414c1f33bf2-0', usage_metadata={'input_tokens': 15, 'output_tokens': 157, 'total_tokens': 172, 'input_token_details': {'audio': 0, 'cache_read': 0}, 'output_token_details': {'audio': 0, 'reasoning': 0}})"
      ]
     },
     "execution_count": 66,
     "metadata": {},
     "output_type": "execute_result"
    }
   ],
   "source": [
    "model.invoke(\"what is a weather in delhi?\")"
   ]
  },
  {
   "cell_type": "code",
   "execution_count": 67,
   "id": "538d95ee",
   "metadata": {},
   "outputs": [],
   "source": [
    "tools=[search]"
   ]
  },
  {
   "cell_type": "code",
   "execution_count": 68,
   "id": "abcc22f2",
   "metadata": {},
   "outputs": [],
   "source": [
    "llm_with_tool=model.bind_tools(tools)"
   ]
  },
  {
   "cell_type": "code",
   "execution_count": 69,
   "id": "b0943ef6",
   "metadata": {},
   "outputs": [],
   "source": [
    "response=llm_with_tool.invoke(\"what is a weather is delhi?\")"
   ]
  },
  {
   "cell_type": "code",
   "execution_count": 70,
   "id": "769f4ed7",
   "metadata": {},
   "outputs": [
    {
     "data": {
      "text/plain": [
       "AIMessage(content='', additional_kwargs={'tool_calls': [{'id': 'call_LvDYXEd4RvWffXQpJUvsVHaL', 'function': {'arguments': '{\"query\":\"weather in Delhi\"}', 'name': 'search'}, 'type': 'function'}], 'refusal': None}, response_metadata={'token_usage': {'completion_tokens': 15, 'prompt_tokens': 54, 'total_tokens': 69, 'completion_tokens_details': {'accepted_prediction_tokens': 0, 'audio_tokens': 0, 'reasoning_tokens': 0, 'rejected_prediction_tokens': 0}, 'prompt_tokens_details': {'audio_tokens': 0, 'cached_tokens': 0}}, 'model_name': 'gpt-4.1-2025-04-14', 'system_fingerprint': 'fp_b3f1157249', 'id': 'chatcmpl-BiCjbBxOrSrz00tBuimg3ZYK8de2F', 'service_tier': 'default', 'finish_reason': 'tool_calls', 'logprobs': None}, id='run--82fbad95-da15-4d14-b50c-eda6d5816307-0', tool_calls=[{'name': 'search', 'args': {'query': 'weather in Delhi'}, 'id': 'call_LvDYXEd4RvWffXQpJUvsVHaL', 'type': 'tool_call'}], usage_metadata={'input_tokens': 54, 'output_tokens': 15, 'total_tokens': 69, 'input_token_details': {'audio': 0, 'cache_read': 0}, 'output_token_details': {'audio': 0, 'reasoning': 0}})"
      ]
     },
     "execution_count": 70,
     "metadata": {},
     "output_type": "execute_result"
    }
   ],
   "source": [
    "response"
   ]
  },
  {
   "cell_type": "code",
   "execution_count": 71,
   "id": "0383956d",
   "metadata": {},
   "outputs": [
    {
     "data": {
      "text/plain": [
       "''"
      ]
     },
     "execution_count": 71,
     "metadata": {},
     "output_type": "execute_result"
    }
   ],
   "source": [
    "response.content\n"
   ]
  },
  {
   "cell_type": "code",
   "execution_count": 72,
   "id": "e27345f3",
   "metadata": {},
   "outputs": [
    {
     "data": {
      "text/plain": [
       "[{'name': 'search',\n",
       "  'args': {'query': 'weather in Delhi'},\n",
       "  'id': 'call_LvDYXEd4RvWffXQpJUvsVHaL',\n",
       "  'type': 'tool_call'}]"
      ]
     },
     "execution_count": 72,
     "metadata": {},
     "output_type": "execute_result"
    }
   ],
   "source": [
    "response.tool_calls\n"
   ]
  },
  {
   "cell_type": "code",
   "execution_count": 73,
   "id": "d162fa8e",
   "metadata": {},
   "outputs": [],
   "source": [
    "input={\"messages\":[\"what is a weather in delhi?\"]}\n"
   ]
  },
  {
   "cell_type": "code",
   "execution_count": 74,
   "id": "7259c8ef",
   "metadata": {},
   "outputs": [],
   "source": [
    "def call_model(state:MessagesState):\n",
    "    question=state[\"messages\"]\n",
    "    response=llm_with_tool.invoke(question)\n",
    "    return {\"messages\":[response]}"
   ]
  },
  {
   "cell_type": "code",
   "execution_count": 75,
   "id": "2b5395f5",
   "metadata": {},
   "outputs": [],
   "source": [
    "response=call_model(input)\n"
   ]
  },
  {
   "cell_type": "code",
   "execution_count": 76,
   "id": "e7547a6f",
   "metadata": {},
   "outputs": [],
   "source": [
    "def router_function(state:MessagesState):\n",
    "    message=state[\"messages\"]\n",
    "    last_message=message[-1]\n",
    "    if last_message.tool_calls:\n",
    "        return \"tools\"\n",
    "    return END\n",
    "    "
   ]
  },
  {
   "cell_type": "code",
   "execution_count": 77,
   "id": "e783f357",
   "metadata": {},
   "outputs": [
    {
     "data": {
      "text/plain": [
       "[StructuredTool(name='search', description='this is my custom tool for searching a weather', args_schema=<class 'langchain_core.utils.pydantic.search'>, func=<function search at 0x000002CA7E8320C0>)]"
      ]
     },
     "execution_count": 77,
     "metadata": {},
     "output_type": "execute_result"
    }
   ],
   "source": [
    "tools"
   ]
  },
  {
   "cell_type": "code",
   "execution_count": 80,
   "id": "06d8fc48",
   "metadata": {},
   "outputs": [],
   "source": [
    "tool_node=ToolNode(tools)\n"
   ]
  },
  {
   "cell_type": "code",
   "execution_count": 81,
   "id": "da764ab2",
   "metadata": {},
   "outputs": [
    {
     "data": {
      "text/plain": [
       "tools(tags=None, recurse=True, explode_args=False, func_accepts_config=True, func_accepts={'store': ('__pregel_store', None)}, tools_by_name={'search': StructuredTool(name='search', description='this is my custom tool for searching a weather', args_schema=<class 'langchain_core.utils.pydantic.search'>, func=<function search at 0x000002CA7E8320C0>)}, tool_to_state_args={'search': {}}, tool_to_store_arg={'search': None}, handle_tool_errors=True, messages_key='messages')"
      ]
     },
     "execution_count": 81,
     "metadata": {},
     "output_type": "execute_result"
    }
   ],
   "source": [
    "tool_node"
   ]
  },
  {
   "cell_type": "code",
   "execution_count": 82,
   "id": "25b149cf",
   "metadata": {},
   "outputs": [],
   "source": [
    "workflow2=StateGraph(MessagesState)"
   ]
  },
  {
   "cell_type": "code",
   "execution_count": 83,
   "id": "7420e570",
   "metadata": {},
   "outputs": [
    {
     "data": {
      "text/plain": [
       "<langgraph.graph.state.StateGraph at 0x2ca7eb20980>"
      ]
     },
     "execution_count": 83,
     "metadata": {},
     "output_type": "execute_result"
    }
   ],
   "source": [
    "workflow2.add_node(\"llmwithtool\",call_model)\n",
    "\n",
    "workflow2.add_node(\"mytools\",tool_node)"
   ]
  },
  {
   "cell_type": "code",
   "execution_count": 84,
   "id": "60a8523a",
   "metadata": {},
   "outputs": [
    {
     "data": {
      "text/plain": [
       "<langgraph.graph.state.StateGraph at 0x2ca7eb20980>"
      ]
     },
     "execution_count": 84,
     "metadata": {},
     "output_type": "execute_result"
    }
   ],
   "source": [
    "workflow2.add_edge(START,\"llmwithtool\")\n",
    "\n",
    "workflow2.add_conditional_edges(\"llmwithtool\",\n",
    "                                router_function,\n",
    "                                {\"tools\":\"mytools\",\n",
    "                                 END:END})"
   ]
  },
  {
   "cell_type": "code",
   "execution_count": 85,
   "id": "ce15bebd",
   "metadata": {},
   "outputs": [],
   "source": [
    "app2=workflow2.compile()"
   ]
  },
  {
   "cell_type": "code",
   "execution_count": 86,
   "id": "18147420",
   "metadata": {},
   "outputs": [
    {
     "data": {
      "image/png": "[encoded data removed]",
      "text/plain": [
       "<IPython.core.display.Image object>"
      ]
     },
     "metadata": {},
     "output_type": "display_data"
    }
   ],
   "source": [
    "from IPython.display import Image, display\n",
    "display(Image(app2.get_graph().draw_mermaid_png()))"
   ]
  },
  {
   "cell_type": "code",
   "execution_count": 87,
   "id": "7a1de4cd",
   "metadata": {},
   "outputs": [
    {
     "data": {
      "text/plain": [
       "{'messages': [HumanMessage(content='what is a weather in bengraluru?', additional_kwargs={}, response_metadata={}, id='010ee0b6-0657-402b-93fe-8f48982c6ee8'),\n",
       "  AIMessage(content='', additional_kwargs={'tool_calls': [{'id': 'call_rp3n3M9ext7iXUsfZT17Rk1P', 'function': {'arguments': '{\"query\":\"weather in Bengaluru\"}', 'name': 'search'}, 'type': 'function'}], 'refusal': None}, response_metadata={'token_usage': {'completion_tokens': 15, 'prompt_tokens': 55, 'total_tokens': 70, 'completion_tokens_details': {'accepted_prediction_tokens': 0, 'audio_tokens': 0, 'reasoning_tokens': 0, 'rejected_prediction_tokens': 0}, 'prompt_tokens_details': {'audio_tokens': 0, 'cached_tokens': 0}}, 'model_name': 'gpt-4.1-2025-04-14', 'system_fingerprint': 'fp_b3f1157249', 'id': 'chatcmpl-BiCnxZk0Rd9qIFTMOdMhxqYe2MfJv', 'service_tier': 'default', 'finish_reason': 'tool_calls', 'logprobs': None}, id='run--03b62d54-19a6-4feb-8dd7-01d1b4580407-0', tool_calls=[{'name': 'search', 'args': {'query': 'weather in Bengaluru'}, 'id': 'call_rp3n3M9ext7iXUsfZT17Rk1P', 'type': 'tool_call'}], usage_metadata={'input_tokens': 55, 'output_tokens': 15, 'total_tokens': 70, 'input_token_details': {'audio': 0, 'cache_read': 0}, 'output_token_details': {'audio': 0, 'reasoning': 0}}),\n",
       "  ToolMessage(content='the temp is 25 degree and cloudy', name='search', id='90c43e32-2d46-46c8-8a55-3a44dbc4576c', tool_call_id='call_rp3n3M9ext7iXUsfZT17Rk1P')]}"
      ]
     },
     "execution_count": 87,
     "metadata": {},
     "output_type": "execute_result"
    }
   ],
   "source": [
    "app2.invoke({\"messages\":[\"what is a weather in bengraluru?\"]})\n"
   ]
  },
  {
   "cell_type": "code",
   "execution_count": 88,
   "id": "7e307c36",
   "metadata": {},
   "outputs": [
    {
     "data": {
      "text/plain": [
       "{'messages': [HumanMessage(content='what is a weather in delhi?', additional_kwargs={}, response_metadata={}, id='57c28aa6-0075-4faa-a2f8-6c90eb61e4f3'),\n",
       "  AIMessage(content='', additional_kwargs={'tool_calls': [{'id': 'call_MEPLlLIzR6d6W5aBACk102RD', 'function': {'arguments': '{\"query\":\"weather in Delhi\"}', 'name': 'search'}, 'type': 'function'}], 'refusal': None}, response_metadata={'token_usage': {'completion_tokens': 15, 'prompt_tokens': 54, 'total_tokens': 69, 'completion_tokens_details': {'accepted_prediction_tokens': 0, 'audio_tokens': 0, 'reasoning_tokens': 0, 'rejected_prediction_tokens': 0}, 'prompt_tokens_details': {'audio_tokens': 0, 'cached_tokens': 0}}, 'model_name': 'gpt-4.1-2025-04-14', 'system_fingerprint': 'fp_b3f1157249', 'id': 'chatcmpl-BiCo9Fe9qTVrbHdKZIObC02HQxr3o', 'service_tier': 'default', 'finish_reason': 'tool_calls', 'logprobs': None}, id='run--d02bfbed-b1ae-432c-9222-89b6583f09b5-0', tool_calls=[{'name': 'search', 'args': {'query': 'weather in Delhi'}, 'id': 'call_MEPLlLIzR6d6W5aBACk102RD', 'type': 'tool_call'}], usage_metadata={'input_tokens': 54, 'output_tokens': 15, 'total_tokens': 69, 'input_token_details': {'audio': 0, 'cache_read': 0}, 'output_token_details': {'audio': 0, 'reasoning': 0}}),\n",
       "  ToolMessage(content='the temp is 45 degree and sunny', name='search', id='42596326-8070-44b8-924a-d267c55b67a8', tool_call_id='call_MEPLlLIzR6d6W5aBACk102RD')]}"
      ]
     },
     "execution_count": 88,
     "metadata": {},
     "output_type": "execute_result"
    }
   ],
   "source": [
    "app2.invoke({\"messages\":[\"what is a weather in delhi?\"]})\n"
   ]
  },
  {
   "cell_type": "code",
   "execution_count": 89,
   "id": "9525b053",
   "metadata": {},
   "outputs": [
    {
     "data": {
      "text/plain": [
       "{'messages': [HumanMessage(content='hi how are you?', additional_kwargs={}, response_metadata={}, id='2b3cb89e-0b10-49a6-b373-ce2f952f3539'),\n",
       "  AIMessage(content=\"Hello! I'm just a computer program, but I'm here and ready to help you. How are you doing today?\", additional_kwargs={'refusal': None}, response_metadata={'token_usage': {'completion_tokens': 24, 'prompt_tokens': 51, 'total_tokens': 75, 'completion_tokens_details': {'accepted_prediction_tokens': 0, 'audio_tokens': 0, 'reasoning_tokens': 0, 'rejected_prediction_tokens': 0}, 'prompt_tokens_details': {'audio_tokens': 0, 'cached_tokens': 0}}, 'model_name': 'gpt-4.1-2025-04-14', 'system_fingerprint': 'fp_b3f1157249', 'id': 'chatcmpl-BiCoINkd8PX86jlimHNhpQyKnr3f9', 'service_tier': 'default', 'finish_reason': 'stop', 'logprobs': None}, id='run--59952e4e-8883-463c-abe7-02c4072fffdf-0', usage_metadata={'input_tokens': 51, 'output_tokens': 24, 'total_tokens': 75, 'input_token_details': {'audio': 0, 'cache_read': 0}, 'output_token_details': {'audio': 0, 'reasoning': 0}})]}"
      ]
     },
     "execution_count": 89,
     "metadata": {},
     "output_type": "execute_result"
    }
   ],
   "source": [
    "app2.invoke({\"messages\":[\"hi how are you?\"]})\n"
   ]
  }
 ],
 "metadata": {
  "kernelspec": {
   "display_name": "Python 3",
   "language": "python",
   "name": "python3"
  },
  "language_info": {
   "codemirror_mode": {
    "name": "ipython",
    "version": 3
   },
   "file_extension": ".py",
   "mimetype": "text/x-python",
   "name": "python",
   "nbconvert_exporter": "python",
   "pygments_lexer": "ipython3",
   "version": "3.12.0"
  }
 },
 "nbformat": 4,
 "nbformat_minor": 5
}
